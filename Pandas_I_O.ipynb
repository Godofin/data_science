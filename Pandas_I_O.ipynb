{
  "nbformat": 4,
  "nbformat_minor": 0,
  "metadata": {
    "colab": {
      "name": "Pandas_I/O.ipynb",
      "provenance": [],
      "authorship_tag": "ABX9TyM3/WijYH48HP1W6uBDFq64",
      "include_colab_link": true
    },
    "kernelspec": {
      "name": "python3",
      "display_name": "Python 3"
    }
  },
  "cells": [
    {
      "cell_type": "markdown",
      "metadata": {
        "id": "view-in-github",
        "colab_type": "text"
      },
      "source": [
        "<a href=\"https://colab.research.google.com/github/Godofin/data_science/blob/main/Pandas_I_O.ipynb\" target=\"_parent\"><img src=\"https://colab.research.google.com/assets/colab-badge.svg\" alt=\"Open In Colab\"/></a>"
      ]
    },
    {
      "cell_type": "markdown",
      "metadata": {
        "id": "9FmxzFWiVdvx"
      },
      "source": [
        "# **Criando os nomes**"
      ]
    },
    {
      "cell_type": "code",
      "metadata": {
        "id": "oiidIGCVVAdr"
      },
      "source": [
        "import pandas as pd\n"
      ],
      "execution_count": null,
      "outputs": []
    },
    {
      "cell_type": "code",
      "metadata": {
        "id": "8hc2Co23Wfdo"
      },
      "source": [
        "feminino = pd.read_json(\"https://servicodados.ibge.gov.br/api/v1/censos/nomes/ranking?qtd=200&sexo=f\")"
      ],
      "execution_count": null,
      "outputs": []
    },
    {
      "cell_type": "code",
      "metadata": {
        "id": "_rJlzCeQWqPC"
      },
      "source": [
        "masculino = pd.read_json(\"https://servicodados.ibge.gov.br/api/v1/censos/nomes/ranking?qtd=200&sexo=m\")"
      ],
      "execution_count": null,
      "outputs": []
    },
    {
      "cell_type": "code",
      "metadata": {
        "id": "Bb-fn6S3XLaH",
        "colab": {
          "base_uri": "https://localhost:8080/"
        },
        "outputId": "94e660da-0e66-499a-9c13-a9c0421b45fe"
      },
      "source": [
        "print(\"A quantidade de nomes : \" + str(len(feminino) + len(masculino)))"
      ],
      "execution_count": null,
      "outputs": [
        {
          "output_type": "stream",
          "text": [
            "A quantidade de nomes : 400\n"
          ],
          "name": "stdout"
        }
      ]
    },
    {
      "cell_type": "code",
      "metadata": {
        "id": "Ho4U_rSyW0i-",
        "colab": {
          "base_uri": "https://localhost:8080/",
          "height": 419
        },
        "outputId": "ad1a57a7-aecd-44bf-8aef-27ea448226e9"
      },
      "source": [
        "feminino"
      ],
      "execution_count": null,
      "outputs": [
        {
          "output_type": "execute_result",
          "data": {
            "text/html": [
              "<div>\n",
              "<style scoped>\n",
              "    .dataframe tbody tr th:only-of-type {\n",
              "        vertical-align: middle;\n",
              "    }\n",
              "\n",
              "    .dataframe tbody tr th {\n",
              "        vertical-align: top;\n",
              "    }\n",
              "\n",
              "    .dataframe thead th {\n",
              "        text-align: right;\n",
              "    }\n",
              "</style>\n",
              "<table border=\"1\" class=\"dataframe\">\n",
              "  <thead>\n",
              "    <tr style=\"text-align: right;\">\n",
              "      <th></th>\n",
              "      <th>nome</th>\n",
              "      <th>regiao</th>\n",
              "      <th>freq</th>\n",
              "      <th>rank</th>\n",
              "      <th>sexo</th>\n",
              "    </tr>\n",
              "  </thead>\n",
              "  <tbody>\n",
              "    <tr>\n",
              "      <th>0</th>\n",
              "      <td>MARIA</td>\n",
              "      <td>0</td>\n",
              "      <td>11694738</td>\n",
              "      <td>1</td>\n",
              "      <td>F</td>\n",
              "    </tr>\n",
              "    <tr>\n",
              "      <th>1</th>\n",
              "      <td>ANA</td>\n",
              "      <td>0</td>\n",
              "      <td>3079729</td>\n",
              "      <td>2</td>\n",
              "      <td>F</td>\n",
              "    </tr>\n",
              "    <tr>\n",
              "      <th>2</th>\n",
              "      <td>FRANCISCA</td>\n",
              "      <td>0</td>\n",
              "      <td>721637</td>\n",
              "      <td>3</td>\n",
              "      <td>F</td>\n",
              "    </tr>\n",
              "    <tr>\n",
              "      <th>3</th>\n",
              "      <td>ANTONIA</td>\n",
              "      <td>0</td>\n",
              "      <td>588783</td>\n",
              "      <td>4</td>\n",
              "      <td>F</td>\n",
              "    </tr>\n",
              "    <tr>\n",
              "      <th>4</th>\n",
              "      <td>ADRIANA</td>\n",
              "      <td>0</td>\n",
              "      <td>565621</td>\n",
              "      <td>5</td>\n",
              "      <td>F</td>\n",
              "    </tr>\n",
              "    <tr>\n",
              "      <th>...</th>\n",
              "      <td>...</td>\n",
              "      <td>...</td>\n",
              "      <td>...</td>\n",
              "      <td>...</td>\n",
              "      <td>...</td>\n",
              "    </tr>\n",
              "    <tr>\n",
              "      <th>195</th>\n",
              "      <td>ROSANE</td>\n",
              "      <td>0</td>\n",
              "      <td>82203</td>\n",
              "      <td>196</td>\n",
              "      <td>F</td>\n",
              "    </tr>\n",
              "    <tr>\n",
              "      <th>196</th>\n",
              "      <td>IVONETE</td>\n",
              "      <td>0</td>\n",
              "      <td>81878</td>\n",
              "      <td>197</td>\n",
              "      <td>F</td>\n",
              "    </tr>\n",
              "    <tr>\n",
              "      <th>197</th>\n",
              "      <td>LUCIANE</td>\n",
              "      <td>0</td>\n",
              "      <td>81230</td>\n",
              "      <td>198</td>\n",
              "      <td>F</td>\n",
              "    </tr>\n",
              "    <tr>\n",
              "      <th>198</th>\n",
              "      <td>ISADORA</td>\n",
              "      <td>0</td>\n",
              "      <td>81100</td>\n",
              "      <td>199</td>\n",
              "      <td>F</td>\n",
              "    </tr>\n",
              "    <tr>\n",
              "      <th>199</th>\n",
              "      <td>NILZA</td>\n",
              "      <td>0</td>\n",
              "      <td>80128</td>\n",
              "      <td>200</td>\n",
              "      <td>F</td>\n",
              "    </tr>\n",
              "  </tbody>\n",
              "</table>\n",
              "<p>200 rows × 5 columns</p>\n",
              "</div>"
            ],
            "text/plain": [
              "          nome  regiao      freq  rank sexo\n",
              "0        MARIA       0  11694738     1    F\n",
              "1          ANA       0   3079729     2    F\n",
              "2    FRANCISCA       0    721637     3    F\n",
              "3      ANTONIA       0    588783     4    F\n",
              "4      ADRIANA       0    565621     5    F\n",
              "..         ...     ...       ...   ...  ...\n",
              "195     ROSANE       0     82203   196    F\n",
              "196    IVONETE       0     81878   197    F\n",
              "197    LUCIANE       0     81230   198    F\n",
              "198    ISADORA       0     81100   199    F\n",
              "199      NILZA       0     80128   200    F\n",
              "\n",
              "[200 rows x 5 columns]"
            ]
          },
          "metadata": {
            "tags": []
          },
          "execution_count": 5
        }
      ]
    },
    {
      "cell_type": "code",
      "metadata": {
        "id": "bYuoNKboW73u",
        "colab": {
          "base_uri": "https://localhost:8080/",
          "height": 419
        },
        "outputId": "6a8cce2a-409c-49f1-a4fc-0fab51ad06e7"
      },
      "source": [
        "masculino"
      ],
      "execution_count": null,
      "outputs": [
        {
          "output_type": "execute_result",
          "data": {
            "text/html": [
              "<div>\n",
              "<style scoped>\n",
              "    .dataframe tbody tr th:only-of-type {\n",
              "        vertical-align: middle;\n",
              "    }\n",
              "\n",
              "    .dataframe tbody tr th {\n",
              "        vertical-align: top;\n",
              "    }\n",
              "\n",
              "    .dataframe thead th {\n",
              "        text-align: right;\n",
              "    }\n",
              "</style>\n",
              "<table border=\"1\" class=\"dataframe\">\n",
              "  <thead>\n",
              "    <tr style=\"text-align: right;\">\n",
              "      <th></th>\n",
              "      <th>nome</th>\n",
              "      <th>regiao</th>\n",
              "      <th>freq</th>\n",
              "      <th>rank</th>\n",
              "      <th>sexo</th>\n",
              "    </tr>\n",
              "  </thead>\n",
              "  <tbody>\n",
              "    <tr>\n",
              "      <th>0</th>\n",
              "      <td>JOSE</td>\n",
              "      <td>0</td>\n",
              "      <td>5732508</td>\n",
              "      <td>1</td>\n",
              "      <td>M</td>\n",
              "    </tr>\n",
              "    <tr>\n",
              "      <th>1</th>\n",
              "      <td>JOAO</td>\n",
              "      <td>0</td>\n",
              "      <td>2971935</td>\n",
              "      <td>2</td>\n",
              "      <td>M</td>\n",
              "    </tr>\n",
              "    <tr>\n",
              "      <th>2</th>\n",
              "      <td>ANTONIO</td>\n",
              "      <td>0</td>\n",
              "      <td>2567494</td>\n",
              "      <td>3</td>\n",
              "      <td>M</td>\n",
              "    </tr>\n",
              "    <tr>\n",
              "      <th>3</th>\n",
              "      <td>FRANCISCO</td>\n",
              "      <td>0</td>\n",
              "      <td>1765197</td>\n",
              "      <td>4</td>\n",
              "      <td>M</td>\n",
              "    </tr>\n",
              "    <tr>\n",
              "      <th>4</th>\n",
              "      <td>CARLOS</td>\n",
              "      <td>0</td>\n",
              "      <td>1483121</td>\n",
              "      <td>5</td>\n",
              "      <td>M</td>\n",
              "    </tr>\n",
              "    <tr>\n",
              "      <th>...</th>\n",
              "      <td>...</td>\n",
              "      <td>...</td>\n",
              "      <td>...</td>\n",
              "      <td>...</td>\n",
              "      <td>...</td>\n",
              "    </tr>\n",
              "    <tr>\n",
              "      <th>195</th>\n",
              "      <td>WALTER</td>\n",
              "      <td>0</td>\n",
              "      <td>67207</td>\n",
              "      <td>196</td>\n",
              "      <td>M</td>\n",
              "    </tr>\n",
              "    <tr>\n",
              "      <th>196</th>\n",
              "      <td>ARLINDO</td>\n",
              "      <td>0</td>\n",
              "      <td>66669</td>\n",
              "      <td>197</td>\n",
              "      <td>M</td>\n",
              "    </tr>\n",
              "    <tr>\n",
              "      <th>197</th>\n",
              "      <td>MICHAEL</td>\n",
              "      <td>0</td>\n",
              "      <td>65736</td>\n",
              "      <td>198</td>\n",
              "      <td>M</td>\n",
              "    </tr>\n",
              "    <tr>\n",
              "      <th>198</th>\n",
              "      <td>ALVARO</td>\n",
              "      <td>0</td>\n",
              "      <td>65444</td>\n",
              "      <td>199</td>\n",
              "      <td>M</td>\n",
              "    </tr>\n",
              "    <tr>\n",
              "      <th>199</th>\n",
              "      <td>GEOVANE</td>\n",
              "      <td>0</td>\n",
              "      <td>65435</td>\n",
              "      <td>200</td>\n",
              "      <td>M</td>\n",
              "    </tr>\n",
              "  </tbody>\n",
              "</table>\n",
              "<p>200 rows × 5 columns</p>\n",
              "</div>"
            ],
            "text/plain": [
              "          nome  regiao     freq  rank sexo\n",
              "0         JOSE       0  5732508     1    M\n",
              "1         JOAO       0  2971935     2    M\n",
              "2      ANTONIO       0  2567494     3    M\n",
              "3    FRANCISCO       0  1765197     4    M\n",
              "4       CARLOS       0  1483121     5    M\n",
              "..         ...     ...      ...   ...  ...\n",
              "195     WALTER       0    67207   196    M\n",
              "196    ARLINDO       0    66669   197    M\n",
              "197    MICHAEL       0    65736   198    M\n",
              "198     ALVARO       0    65444   199    M\n",
              "199    GEOVANE       0    65435   200    M\n",
              "\n",
              "[200 rows x 5 columns]"
            ]
          },
          "metadata": {
            "tags": []
          },
          "execution_count": 6
        }
      ]
    },
    {
      "cell_type": "code",
      "metadata": {
        "id": "9K_tLOUxW9IW"
      },
      "source": [
        "frames = [feminino, masculino]"
      ],
      "execution_count": null,
      "outputs": []
    },
    {
      "cell_type": "code",
      "metadata": {
        "id": "6ljaR8vaXq0Z"
      },
      "source": [
        "nomes = pd.concat(frames)[\"nome\"].to_frame()"
      ],
      "execution_count": null,
      "outputs": []
    },
    {
      "cell_type": "code",
      "metadata": {
        "id": "bsT3D_CmX5vC",
        "colab": {
          "base_uri": "https://localhost:8080/",
          "height": 204
        },
        "outputId": "53171dba-1751-482a-a474-52242c5a4049"
      },
      "source": [
        "nomes.sample(5)"
      ],
      "execution_count": null,
      "outputs": [
        {
          "output_type": "execute_result",
          "data": {
            "text/html": [
              "<div>\n",
              "<style scoped>\n",
              "    .dataframe tbody tr th:only-of-type {\n",
              "        vertical-align: middle;\n",
              "    }\n",
              "\n",
              "    .dataframe tbody tr th {\n",
              "        vertical-align: top;\n",
              "    }\n",
              "\n",
              "    .dataframe thead th {\n",
              "        text-align: right;\n",
              "    }\n",
              "</style>\n",
              "<table border=\"1\" class=\"dataframe\">\n",
              "  <thead>\n",
              "    <tr style=\"text-align: right;\">\n",
              "      <th></th>\n",
              "      <th>nome</th>\n",
              "    </tr>\n",
              "  </thead>\n",
              "  <tbody>\n",
              "    <tr>\n",
              "      <th>67</th>\n",
              "      <td>HENRIQUE</td>\n",
              "    </tr>\n",
              "    <tr>\n",
              "      <th>172</th>\n",
              "      <td>WANDERSON</td>\n",
              "    </tr>\n",
              "    <tr>\n",
              "      <th>58</th>\n",
              "      <td>DAVI</td>\n",
              "    </tr>\n",
              "    <tr>\n",
              "      <th>11</th>\n",
              "      <td>GABRIEL</td>\n",
              "    </tr>\n",
              "    <tr>\n",
              "      <th>15</th>\n",
              "      <td>BRUNO</td>\n",
              "    </tr>\n",
              "  </tbody>\n",
              "</table>\n",
              "</div>"
            ],
            "text/plain": [
              "          nome\n",
              "67    HENRIQUE\n",
              "172  WANDERSON\n",
              "58        DAVI\n",
              "11     GABRIEL\n",
              "15       BRUNO"
            ]
          },
          "metadata": {
            "tags": []
          },
          "execution_count": 9
        }
      ]
    },
    {
      "cell_type": "markdown",
      "metadata": {
        "id": "SaAcvHPvZhTA"
      },
      "source": [
        "#**Incluindo ID dos Alunos**"
      ]
    },
    {
      "cell_type": "code",
      "metadata": {
        "id": "v593jA0rYCks"
      },
      "source": [
        "import numpy as np\n",
        "np.random.seed(123)"
      ],
      "execution_count": null,
      "outputs": []
    },
    {
      "cell_type": "code",
      "metadata": {
        "id": "oUwIOHb1ZpZt",
        "colab": {
          "base_uri": "https://localhost:8080/"
        },
        "outputId": "9fda1b4d-fedf-4684-beb3-eb102cbe59f0"
      },
      "source": [
        "total_alunos = len(nomes)\n",
        "total_alunos"
      ],
      "execution_count": null,
      "outputs": [
        {
          "output_type": "execute_result",
          "data": {
            "text/plain": [
              "400"
            ]
          },
          "metadata": {
            "tags": []
          },
          "execution_count": 11
        }
      ]
    },
    {
      "cell_type": "code",
      "metadata": {
        "id": "tR07aHSNo-Ol"
      },
      "source": [
        "nomes[\"ID_aluno\"] = np.random.permutation(total_alunos)+1"
      ],
      "execution_count": null,
      "outputs": []
    },
    {
      "cell_type": "code",
      "metadata": {
        "id": "WSpi8_pQp3fe",
        "colab": {
          "base_uri": "https://localhost:8080/",
          "height": 204
        },
        "outputId": "ca6489ba-e1f5-4270-b55a-c1fa11f9dfcc"
      },
      "source": [
        "nomes.sample(5)"
      ],
      "execution_count": null,
      "outputs": [
        {
          "output_type": "execute_result",
          "data": {
            "text/html": [
              "<div>\n",
              "<style scoped>\n",
              "    .dataframe tbody tr th:only-of-type {\n",
              "        vertical-align: middle;\n",
              "    }\n",
              "\n",
              "    .dataframe tbody tr th {\n",
              "        vertical-align: top;\n",
              "    }\n",
              "\n",
              "    .dataframe thead th {\n",
              "        text-align: right;\n",
              "    }\n",
              "</style>\n",
              "<table border=\"1\" class=\"dataframe\">\n",
              "  <thead>\n",
              "    <tr style=\"text-align: right;\">\n",
              "      <th></th>\n",
              "      <th>nome</th>\n",
              "      <th>ID_aluno</th>\n",
              "    </tr>\n",
              "  </thead>\n",
              "  <tbody>\n",
              "    <tr>\n",
              "      <th>188</th>\n",
              "      <td>POLIANA</td>\n",
              "      <td>369</td>\n",
              "    </tr>\n",
              "    <tr>\n",
              "      <th>57</th>\n",
              "      <td>DAIANE</td>\n",
              "      <td>303</td>\n",
              "    </tr>\n",
              "    <tr>\n",
              "      <th>3</th>\n",
              "      <td>FRANCISCO</td>\n",
              "      <td>382</td>\n",
              "    </tr>\n",
              "    <tr>\n",
              "      <th>182</th>\n",
              "      <td>CHARLES</td>\n",
              "      <td>33</td>\n",
              "    </tr>\n",
              "    <tr>\n",
              "      <th>30</th>\n",
              "      <td>ANDERSON</td>\n",
              "      <td>111</td>\n",
              "    </tr>\n",
              "  </tbody>\n",
              "</table>\n",
              "</div>"
            ],
            "text/plain": [
              "          nome  ID_aluno\n",
              "188    POLIANA       369\n",
              "57      DAIANE       303\n",
              "3    FRANCISCO       382\n",
              "182    CHARLES        33\n",
              "30    ANDERSON       111"
            ]
          },
          "metadata": {
            "tags": []
          },
          "execution_count": 13
        }
      ]
    },
    {
      "cell_type": "code",
      "metadata": {
        "id": "zsKCN_fyp54l"
      },
      "source": [
        "dominios = [\"@dominiodoemail.com.br\", \"@servicodoemail.com\"]\n",
        "nomes['Domínio'] = np.random.choice(dominios, total_alunos)\n"
      ],
      "execution_count": null,
      "outputs": []
    },
    {
      "cell_type": "code",
      "metadata": {
        "id": "s1ycJDXiqhae"
      },
      "source": [
        "nomes['email'] = nomes.nome.str.cat(nomes.Domínio).str.lower()"
      ],
      "execution_count": null,
      "outputs": []
    },
    {
      "cell_type": "code",
      "metadata": {
        "id": "c9l3wUViq1U-",
        "colab": {
          "base_uri": "https://localhost:8080/",
          "height": 204
        },
        "outputId": "1fcf5972-5160-4110-b382-cb95ada10752"
      },
      "source": [
        "nomes.sample(5)"
      ],
      "execution_count": null,
      "outputs": [
        {
          "output_type": "execute_result",
          "data": {
            "text/html": [
              "<div>\n",
              "<style scoped>\n",
              "    .dataframe tbody tr th:only-of-type {\n",
              "        vertical-align: middle;\n",
              "    }\n",
              "\n",
              "    .dataframe tbody tr th {\n",
              "        vertical-align: top;\n",
              "    }\n",
              "\n",
              "    .dataframe thead th {\n",
              "        text-align: right;\n",
              "    }\n",
              "</style>\n",
              "<table border=\"1\" class=\"dataframe\">\n",
              "  <thead>\n",
              "    <tr style=\"text-align: right;\">\n",
              "      <th></th>\n",
              "      <th>nome</th>\n",
              "      <th>ID_aluno</th>\n",
              "      <th>Domínio</th>\n",
              "      <th>email</th>\n",
              "    </tr>\n",
              "  </thead>\n",
              "  <tbody>\n",
              "    <tr>\n",
              "      <th>84</th>\n",
              "      <td>SEVERINO</td>\n",
              "      <td>78</td>\n",
              "      <td>@dominiodoemail.com.br</td>\n",
              "      <td>severino@dominiodoemail.com.br</td>\n",
              "    </tr>\n",
              "    <tr>\n",
              "      <th>0</th>\n",
              "      <td>JOSE</td>\n",
              "      <td>331</td>\n",
              "      <td>@servicodoemail.com</td>\n",
              "      <td>jose@servicodoemail.com</td>\n",
              "    </tr>\n",
              "    <tr>\n",
              "      <th>179</th>\n",
              "      <td>IAGO</td>\n",
              "      <td>340</td>\n",
              "      <td>@dominiodoemail.com.br</td>\n",
              "      <td>iago@dominiodoemail.com.br</td>\n",
              "    </tr>\n",
              "    <tr>\n",
              "      <th>10</th>\n",
              "      <td>SANDRA</td>\n",
              "      <td>174</td>\n",
              "      <td>@dominiodoemail.com.br</td>\n",
              "      <td>sandra@dominiodoemail.com.br</td>\n",
              "    </tr>\n",
              "    <tr>\n",
              "      <th>171</th>\n",
              "      <td>TERESINHA</td>\n",
              "      <td>45</td>\n",
              "      <td>@dominiodoemail.com.br</td>\n",
              "      <td>teresinha@dominiodoemail.com.br</td>\n",
              "    </tr>\n",
              "  </tbody>\n",
              "</table>\n",
              "</div>"
            ],
            "text/plain": [
              "          nome  ...                            email\n",
              "84    SEVERINO  ...   severino@dominiodoemail.com.br\n",
              "0         JOSE  ...          jose@servicodoemail.com\n",
              "179       IAGO  ...       iago@dominiodoemail.com.br\n",
              "10      SANDRA  ...     sandra@dominiodoemail.com.br\n",
              "171  TERESINHA  ...  teresinha@dominiodoemail.com.br\n",
              "\n",
              "[5 rows x 4 columns]"
            ]
          },
          "metadata": {
            "tags": []
          },
          "execution_count": 16
        }
      ]
    },
    {
      "cell_type": "markdown",
      "metadata": {
        "id": "5wwWVwBuxQWR"
      },
      "source": [
        "#**Criando a tabela cursos**"
      ]
    },
    {
      "cell_type": "code",
      "metadata": {
        "id": "jkJNiuAvq6fK",
        "colab": {
          "base_uri": "https://localhost:8080/"
        },
        "outputId": "212518dd-8179-4b2a-b931-cd0d2f85bf60"
      },
      "source": [
        "!pip3 install html5lib\n",
        "!pip3 install lxml"
      ],
      "execution_count": null,
      "outputs": [
        {
          "output_type": "stream",
          "text": [
            "Requirement already satisfied: html5lib in /usr/local/lib/python3.6/dist-packages (1.0.1)\n",
            "Requirement already satisfied: six>=1.9 in /usr/local/lib/python3.6/dist-packages (from html5lib) (1.15.0)\n",
            "Requirement already satisfied: webencodings in /usr/local/lib/python3.6/dist-packages (from html5lib) (0.5.1)\n",
            "Requirement already satisfied: lxml in /usr/local/lib/python3.6/dist-packages (4.2.6)\n"
          ],
          "name": "stdout"
        }
      ]
    },
    {
      "cell_type": "code",
      "metadata": {
        "id": "PW6R-hODxxcp"
      },
      "source": [
        "import html5lib"
      ],
      "execution_count": null,
      "outputs": []
    },
    {
      "cell_type": "code",
      "metadata": {
        "id": "RRR4bWMrx2O-",
        "colab": {
          "base_uri": "https://localhost:8080/"
        },
        "outputId": "e2b11f72-718a-4ef1-d286-9e7c71d7b113"
      },
      "source": [
        "url = 'http://tabela-cursos.herokuapp.com/index.html'\n",
        "cursos = pd.read_html(url)\n",
        "cursos"
      ],
      "execution_count": null,
      "outputs": [
        {
          "output_type": "execute_result",
          "data": {
            "text/plain": [
              "[                          Nome do curso\n",
              " 0                 Lógica de programação\n",
              " 1                         Java para Web\n",
              " 2                           C# para Web\n",
              " 3                         Ruby on Rails\n",
              " 4                      Cursos de Python\n",
              " 5                         PHP com MySql\n",
              " 6                         .NET para web\n",
              " 7            Novas integrações com Java\n",
              " 8                          TDD com Java\n",
              " 9                   Código limpo com C#\n",
              " 10  Preparatório para certificação Java\n",
              " 11                      Hardware básico\n",
              " 12                Persistência com .NET\n",
              " 13                  Desenvolvendo jogos\n",
              " 14                     Análise de dados\n",
              " 15                   Estatística básica\n",
              " 16                  Internet das coisas\n",
              " 17                Programação funcional\n",
              " 18                Boas práticas em Java\n",
              " 19          Orientação objetos com Java]"
            ]
          },
          "metadata": {
            "tags": []
          },
          "execution_count": 19
        }
      ]
    },
    {
      "cell_type": "code",
      "metadata": {
        "id": "VC_rHjbGx-_j",
        "colab": {
          "base_uri": "https://localhost:8080/"
        },
        "outputId": "09d4a175-9363-4759-d0b3-e6e37fb131fa"
      },
      "source": [
        "type(cursos)"
      ],
      "execution_count": null,
      "outputs": [
        {
          "output_type": "execute_result",
          "data": {
            "text/plain": [
              "list"
            ]
          },
          "metadata": {
            "tags": []
          },
          "execution_count": 20
        }
      ]
    },
    {
      "cell_type": "code",
      "metadata": {
        "id": "263-VaCRyWwj"
      },
      "source": [
        "cursos = cursos[0]"
      ],
      "execution_count": null,
      "outputs": []
    },
    {
      "cell_type": "code",
      "metadata": {
        "id": "E5v0XNsEyaV2",
        "colab": {
          "base_uri": "https://localhost:8080/"
        },
        "outputId": "cc762264-8962-4b2b-8328-88da3ea75389"
      },
      "source": [
        "type(cursos)"
      ],
      "execution_count": null,
      "outputs": [
        {
          "output_type": "execute_result",
          "data": {
            "text/plain": [
              "pandas.core.frame.DataFrame"
            ]
          },
          "metadata": {
            "tags": []
          },
          "execution_count": 22
        }
      ]
    },
    {
      "cell_type": "code",
      "metadata": {
        "id": "1h2u93GxyuJM",
        "colab": {
          "base_uri": "https://localhost:8080/",
          "height": 204
        },
        "outputId": "1d5798ca-814b-42aa-8f07-b317b0e1351b"
      },
      "source": [
        "cursos.head()"
      ],
      "execution_count": null,
      "outputs": [
        {
          "output_type": "execute_result",
          "data": {
            "text/html": [
              "<div>\n",
              "<style scoped>\n",
              "    .dataframe tbody tr th:only-of-type {\n",
              "        vertical-align: middle;\n",
              "    }\n",
              "\n",
              "    .dataframe tbody tr th {\n",
              "        vertical-align: top;\n",
              "    }\n",
              "\n",
              "    .dataframe thead th {\n",
              "        text-align: right;\n",
              "    }\n",
              "</style>\n",
              "<table border=\"1\" class=\"dataframe\">\n",
              "  <thead>\n",
              "    <tr style=\"text-align: right;\">\n",
              "      <th></th>\n",
              "      <th>Nome do curso</th>\n",
              "    </tr>\n",
              "  </thead>\n",
              "  <tbody>\n",
              "    <tr>\n",
              "      <th>0</th>\n",
              "      <td>Lógica de programação</td>\n",
              "    </tr>\n",
              "    <tr>\n",
              "      <th>1</th>\n",
              "      <td>Java para Web</td>\n",
              "    </tr>\n",
              "    <tr>\n",
              "      <th>2</th>\n",
              "      <td>C# para Web</td>\n",
              "    </tr>\n",
              "    <tr>\n",
              "      <th>3</th>\n",
              "      <td>Ruby on Rails</td>\n",
              "    </tr>\n",
              "    <tr>\n",
              "      <th>4</th>\n",
              "      <td>Cursos de Python</td>\n",
              "    </tr>\n",
              "  </tbody>\n",
              "</table>\n",
              "</div>"
            ],
            "text/plain": [
              "           Nome do curso\n",
              "0  Lógica de programação\n",
              "1          Java para Web\n",
              "2            C# para Web\n",
              "3          Ruby on Rails\n",
              "4       Cursos de Python"
            ]
          },
          "metadata": {
            "tags": []
          },
          "execution_count": 23
        }
      ]
    },
    {
      "cell_type": "markdown",
      "metadata": {
        "id": "jkzYF37xzGnJ"
      },
      "source": [
        "#**Alterando o index de cursos**"
      ]
    },
    {
      "cell_type": "code",
      "metadata": {
        "id": "3dNT9fWczKRt"
      },
      "source": [
        "cursos= cursos.rename(columns={'Nome do curso': 'Nome_do_curso'})"
      ],
      "execution_count": null,
      "outputs": []
    },
    {
      "cell_type": "code",
      "metadata": {
        "id": "maR_CjpXzUgr",
        "colab": {
          "base_uri": "https://localhost:8080/",
          "height": 669
        },
        "outputId": "05a65a3d-c5f9-4e7c-ffc6-c068128ca3dc"
      },
      "source": [
        "cursos"
      ],
      "execution_count": null,
      "outputs": [
        {
          "output_type": "execute_result",
          "data": {
            "text/html": [
              "<div>\n",
              "<style scoped>\n",
              "    .dataframe tbody tr th:only-of-type {\n",
              "        vertical-align: middle;\n",
              "    }\n",
              "\n",
              "    .dataframe tbody tr th {\n",
              "        vertical-align: top;\n",
              "    }\n",
              "\n",
              "    .dataframe thead th {\n",
              "        text-align: right;\n",
              "    }\n",
              "</style>\n",
              "<table border=\"1\" class=\"dataframe\">\n",
              "  <thead>\n",
              "    <tr style=\"text-align: right;\">\n",
              "      <th></th>\n",
              "      <th>Nome_do_curso</th>\n",
              "    </tr>\n",
              "  </thead>\n",
              "  <tbody>\n",
              "    <tr>\n",
              "      <th>0</th>\n",
              "      <td>Lógica de programação</td>\n",
              "    </tr>\n",
              "    <tr>\n",
              "      <th>1</th>\n",
              "      <td>Java para Web</td>\n",
              "    </tr>\n",
              "    <tr>\n",
              "      <th>2</th>\n",
              "      <td>C# para Web</td>\n",
              "    </tr>\n",
              "    <tr>\n",
              "      <th>3</th>\n",
              "      <td>Ruby on Rails</td>\n",
              "    </tr>\n",
              "    <tr>\n",
              "      <th>4</th>\n",
              "      <td>Cursos de Python</td>\n",
              "    </tr>\n",
              "    <tr>\n",
              "      <th>5</th>\n",
              "      <td>PHP com MySql</td>\n",
              "    </tr>\n",
              "    <tr>\n",
              "      <th>6</th>\n",
              "      <td>.NET para web</td>\n",
              "    </tr>\n",
              "    <tr>\n",
              "      <th>7</th>\n",
              "      <td>Novas integrações com Java</td>\n",
              "    </tr>\n",
              "    <tr>\n",
              "      <th>8</th>\n",
              "      <td>TDD com Java</td>\n",
              "    </tr>\n",
              "    <tr>\n",
              "      <th>9</th>\n",
              "      <td>Código limpo com C#</td>\n",
              "    </tr>\n",
              "    <tr>\n",
              "      <th>10</th>\n",
              "      <td>Preparatório para certificação Java</td>\n",
              "    </tr>\n",
              "    <tr>\n",
              "      <th>11</th>\n",
              "      <td>Hardware básico</td>\n",
              "    </tr>\n",
              "    <tr>\n",
              "      <th>12</th>\n",
              "      <td>Persistência com .NET</td>\n",
              "    </tr>\n",
              "    <tr>\n",
              "      <th>13</th>\n",
              "      <td>Desenvolvendo jogos</td>\n",
              "    </tr>\n",
              "    <tr>\n",
              "      <th>14</th>\n",
              "      <td>Análise de dados</td>\n",
              "    </tr>\n",
              "    <tr>\n",
              "      <th>15</th>\n",
              "      <td>Estatística básica</td>\n",
              "    </tr>\n",
              "    <tr>\n",
              "      <th>16</th>\n",
              "      <td>Internet das coisas</td>\n",
              "    </tr>\n",
              "    <tr>\n",
              "      <th>17</th>\n",
              "      <td>Programação funcional</td>\n",
              "    </tr>\n",
              "    <tr>\n",
              "      <th>18</th>\n",
              "      <td>Boas práticas em Java</td>\n",
              "    </tr>\n",
              "    <tr>\n",
              "      <th>19</th>\n",
              "      <td>Orientação objetos com Java</td>\n",
              "    </tr>\n",
              "  </tbody>\n",
              "</table>\n",
              "</div>"
            ],
            "text/plain": [
              "                          Nome_do_curso\n",
              "0                 Lógica de programação\n",
              "1                         Java para Web\n",
              "2                           C# para Web\n",
              "3                         Ruby on Rails\n",
              "4                      Cursos de Python\n",
              "5                         PHP com MySql\n",
              "6                         .NET para web\n",
              "7            Novas integrações com Java\n",
              "8                          TDD com Java\n",
              "9                   Código limpo com C#\n",
              "10  Preparatório para certificação Java\n",
              "11                      Hardware básico\n",
              "12                Persistência com .NET\n",
              "13                  Desenvolvendo jogos\n",
              "14                     Análise de dados\n",
              "15                   Estatística básica\n",
              "16                  Internet das coisas\n",
              "17                Programação funcional\n",
              "18                Boas práticas em Java\n",
              "19          Orientação objetos com Java"
            ]
          },
          "metadata": {
            "tags": []
          },
          "execution_count": 25
        }
      ]
    },
    {
      "cell_type": "code",
      "metadata": {
        "id": "2jWpnZkWzdWp"
      },
      "source": [
        "cursos['id'] = cursos.index +1"
      ],
      "execution_count": null,
      "outputs": []
    },
    {
      "cell_type": "code",
      "metadata": {
        "id": "8N8YDuu8zmEm",
        "colab": {
          "base_uri": "https://localhost:8080/",
          "height": 669
        },
        "outputId": "26dfde68-5688-43f1-f074-034788c70fc1"
      },
      "source": [
        "cursos"
      ],
      "execution_count": null,
      "outputs": [
        {
          "output_type": "execute_result",
          "data": {
            "text/html": [
              "<div>\n",
              "<style scoped>\n",
              "    .dataframe tbody tr th:only-of-type {\n",
              "        vertical-align: middle;\n",
              "    }\n",
              "\n",
              "    .dataframe tbody tr th {\n",
              "        vertical-align: top;\n",
              "    }\n",
              "\n",
              "    .dataframe thead th {\n",
              "        text-align: right;\n",
              "    }\n",
              "</style>\n",
              "<table border=\"1\" class=\"dataframe\">\n",
              "  <thead>\n",
              "    <tr style=\"text-align: right;\">\n",
              "      <th></th>\n",
              "      <th>Nome_do_curso</th>\n",
              "      <th>id</th>\n",
              "    </tr>\n",
              "  </thead>\n",
              "  <tbody>\n",
              "    <tr>\n",
              "      <th>0</th>\n",
              "      <td>Lógica de programação</td>\n",
              "      <td>1</td>\n",
              "    </tr>\n",
              "    <tr>\n",
              "      <th>1</th>\n",
              "      <td>Java para Web</td>\n",
              "      <td>2</td>\n",
              "    </tr>\n",
              "    <tr>\n",
              "      <th>2</th>\n",
              "      <td>C# para Web</td>\n",
              "      <td>3</td>\n",
              "    </tr>\n",
              "    <tr>\n",
              "      <th>3</th>\n",
              "      <td>Ruby on Rails</td>\n",
              "      <td>4</td>\n",
              "    </tr>\n",
              "    <tr>\n",
              "      <th>4</th>\n",
              "      <td>Cursos de Python</td>\n",
              "      <td>5</td>\n",
              "    </tr>\n",
              "    <tr>\n",
              "      <th>5</th>\n",
              "      <td>PHP com MySql</td>\n",
              "      <td>6</td>\n",
              "    </tr>\n",
              "    <tr>\n",
              "      <th>6</th>\n",
              "      <td>.NET para web</td>\n",
              "      <td>7</td>\n",
              "    </tr>\n",
              "    <tr>\n",
              "      <th>7</th>\n",
              "      <td>Novas integrações com Java</td>\n",
              "      <td>8</td>\n",
              "    </tr>\n",
              "    <tr>\n",
              "      <th>8</th>\n",
              "      <td>TDD com Java</td>\n",
              "      <td>9</td>\n",
              "    </tr>\n",
              "    <tr>\n",
              "      <th>9</th>\n",
              "      <td>Código limpo com C#</td>\n",
              "      <td>10</td>\n",
              "    </tr>\n",
              "    <tr>\n",
              "      <th>10</th>\n",
              "      <td>Preparatório para certificação Java</td>\n",
              "      <td>11</td>\n",
              "    </tr>\n",
              "    <tr>\n",
              "      <th>11</th>\n",
              "      <td>Hardware básico</td>\n",
              "      <td>12</td>\n",
              "    </tr>\n",
              "    <tr>\n",
              "      <th>12</th>\n",
              "      <td>Persistência com .NET</td>\n",
              "      <td>13</td>\n",
              "    </tr>\n",
              "    <tr>\n",
              "      <th>13</th>\n",
              "      <td>Desenvolvendo jogos</td>\n",
              "      <td>14</td>\n",
              "    </tr>\n",
              "    <tr>\n",
              "      <th>14</th>\n",
              "      <td>Análise de dados</td>\n",
              "      <td>15</td>\n",
              "    </tr>\n",
              "    <tr>\n",
              "      <th>15</th>\n",
              "      <td>Estatística básica</td>\n",
              "      <td>16</td>\n",
              "    </tr>\n",
              "    <tr>\n",
              "      <th>16</th>\n",
              "      <td>Internet das coisas</td>\n",
              "      <td>17</td>\n",
              "    </tr>\n",
              "    <tr>\n",
              "      <th>17</th>\n",
              "      <td>Programação funcional</td>\n",
              "      <td>18</td>\n",
              "    </tr>\n",
              "    <tr>\n",
              "      <th>18</th>\n",
              "      <td>Boas práticas em Java</td>\n",
              "      <td>19</td>\n",
              "    </tr>\n",
              "    <tr>\n",
              "      <th>19</th>\n",
              "      <td>Orientação objetos com Java</td>\n",
              "      <td>20</td>\n",
              "    </tr>\n",
              "  </tbody>\n",
              "</table>\n",
              "</div>"
            ],
            "text/plain": [
              "                          Nome_do_curso  id\n",
              "0                 Lógica de programação   1\n",
              "1                         Java para Web   2\n",
              "2                           C# para Web   3\n",
              "3                         Ruby on Rails   4\n",
              "4                      Cursos de Python   5\n",
              "5                         PHP com MySql   6\n",
              "6                         .NET para web   7\n",
              "7            Novas integrações com Java   8\n",
              "8                          TDD com Java   9\n",
              "9                   Código limpo com C#  10\n",
              "10  Preparatório para certificação Java  11\n",
              "11                      Hardware básico  12\n",
              "12                Persistência com .NET  13\n",
              "13                  Desenvolvendo jogos  14\n",
              "14                     Análise de dados  15\n",
              "15                   Estatística básica  16\n",
              "16                  Internet das coisas  17\n",
              "17                Programação funcional  18\n",
              "18                Boas práticas em Java  19\n",
              "19          Orientação objetos com Java  20"
            ]
          },
          "metadata": {
            "tags": []
          },
          "execution_count": 27
        }
      ]
    },
    {
      "cell_type": "code",
      "metadata": {
        "id": "b0p0ihP0znU4"
      },
      "source": [
        "cursos = cursos.set_index('id')"
      ],
      "execution_count": null,
      "outputs": []
    },
    {
      "cell_type": "code",
      "metadata": {
        "id": "qymsN6vwz1ni",
        "colab": {
          "base_uri": "https://localhost:8080/",
          "height": 235
        },
        "outputId": "ec04c5d6-7765-42c4-ee1c-25ad42e4b9f7"
      },
      "source": [
        "cursos.head()"
      ],
      "execution_count": null,
      "outputs": [
        {
          "output_type": "execute_result",
          "data": {
            "text/html": [
              "<div>\n",
              "<style scoped>\n",
              "    .dataframe tbody tr th:only-of-type {\n",
              "        vertical-align: middle;\n",
              "    }\n",
              "\n",
              "    .dataframe tbody tr th {\n",
              "        vertical-align: top;\n",
              "    }\n",
              "\n",
              "    .dataframe thead th {\n",
              "        text-align: right;\n",
              "    }\n",
              "</style>\n",
              "<table border=\"1\" class=\"dataframe\">\n",
              "  <thead>\n",
              "    <tr style=\"text-align: right;\">\n",
              "      <th></th>\n",
              "      <th>Nome_do_curso</th>\n",
              "    </tr>\n",
              "    <tr>\n",
              "      <th>id</th>\n",
              "      <th></th>\n",
              "    </tr>\n",
              "  </thead>\n",
              "  <tbody>\n",
              "    <tr>\n",
              "      <th>1</th>\n",
              "      <td>Lógica de programação</td>\n",
              "    </tr>\n",
              "    <tr>\n",
              "      <th>2</th>\n",
              "      <td>Java para Web</td>\n",
              "    </tr>\n",
              "    <tr>\n",
              "      <th>3</th>\n",
              "      <td>C# para Web</td>\n",
              "    </tr>\n",
              "    <tr>\n",
              "      <th>4</th>\n",
              "      <td>Ruby on Rails</td>\n",
              "    </tr>\n",
              "    <tr>\n",
              "      <th>5</th>\n",
              "      <td>Cursos de Python</td>\n",
              "    </tr>\n",
              "  </tbody>\n",
              "</table>\n",
              "</div>"
            ],
            "text/plain": [
              "            Nome_do_curso\n",
              "id                       \n",
              "1   Lógica de programação\n",
              "2           Java para Web\n",
              "3             C# para Web\n",
              "4           Ruby on Rails\n",
              "5        Cursos de Python"
            ]
          },
          "metadata": {
            "tags": []
          },
          "execution_count": 29
        }
      ]
    },
    {
      "cell_type": "markdown",
      "metadata": {
        "id": "rxemzo204B6O"
      },
      "source": [
        "#**Matriculando os alunos nos cursos**\n"
      ]
    },
    {
      "cell_type": "code",
      "metadata": {
        "id": "lyt_OqAaz3Hl",
        "colab": {
          "base_uri": "https://localhost:8080/"
        },
        "outputId": "a1cecf40-8bec-40ed-909a-ad4a5c487cac"
      },
      "source": [
        "nomes.sample(5)"
      ],
      "execution_count": null,
      "outputs": [
        {
          "output_type": "execute_result",
          "data": {
            "text/html": [
              "<div>\n",
              "<style scoped>\n",
              "    .dataframe tbody tr th:only-of-type {\n",
              "        vertical-align: middle;\n",
              "    }\n",
              "\n",
              "    .dataframe tbody tr th {\n",
              "        vertical-align: top;\n",
              "    }\n",
              "\n",
              "    .dataframe thead th {\n",
              "        text-align: right;\n",
              "    }\n",
              "</style>\n",
              "<table border=\"1\" class=\"dataframe\">\n",
              "  <thead>\n",
              "    <tr style=\"text-align: right;\">\n",
              "      <th></th>\n",
              "      <th>nome</th>\n",
              "      <th>ID_aluno</th>\n",
              "      <th>Domínio</th>\n",
              "      <th>email</th>\n",
              "    </tr>\n",
              "  </thead>\n",
              "  <tbody>\n",
              "    <tr>\n",
              "      <th>114</th>\n",
              "      <td>ARTHUR</td>\n",
              "      <td>320</td>\n",
              "      <td>@dominiodoemail.com.br</td>\n",
              "      <td>arthur@dominiodoemail.com.br</td>\n",
              "    </tr>\n",
              "    <tr>\n",
              "      <th>57</th>\n",
              "      <td>DAIANE</td>\n",
              "      <td>303</td>\n",
              "      <td>@servicodoemail.com</td>\n",
              "      <td>daiane@servicodoemail.com</td>\n",
              "    </tr>\n",
              "    <tr>\n",
              "      <th>85</th>\n",
              "      <td>HELENA</td>\n",
              "      <td>221</td>\n",
              "      <td>@dominiodoemail.com.br</td>\n",
              "      <td>helena@dominiodoemail.com.br</td>\n",
              "    </tr>\n",
              "    <tr>\n",
              "      <th>183</th>\n",
              "      <td>IRACI</td>\n",
              "      <td>8</td>\n",
              "      <td>@dominiodoemail.com.br</td>\n",
              "      <td>iraci@dominiodoemail.com.br</td>\n",
              "    </tr>\n",
              "    <tr>\n",
              "      <th>189</th>\n",
              "      <td>DALVA</td>\n",
              "      <td>137</td>\n",
              "      <td>@dominiodoemail.com.br</td>\n",
              "      <td>dalva@dominiodoemail.com.br</td>\n",
              "    </tr>\n",
              "  </tbody>\n",
              "</table>\n",
              "</div>"
            ],
            "text/plain": [
              "       nome  ID_aluno                 Domínio                         email\n",
              "114  ARTHUR       320  @dominiodoemail.com.br  arthur@dominiodoemail.com.br\n",
              "57   DAIANE       303     @servicodoemail.com     daiane@servicodoemail.com\n",
              "85   HELENA       221  @dominiodoemail.com.br  helena@dominiodoemail.com.br\n",
              "183   IRACI         8  @dominiodoemail.com.br   iraci@dominiodoemail.com.br\n",
              "189   DALVA       137  @dominiodoemail.com.br   dalva@dominiodoemail.com.br"
            ]
          },
          "metadata": {
            "tags": []
          },
          "execution_count": 30
        }
      ]
    },
    {
      "cell_type": "code",
      "metadata": {
        "id": "x-DPxizK33uv"
      },
      "source": [
        "nomes['matriculas'] = np.ceil(np.random.exponential(size=total_alunos)*1.5).astype(int)"
      ],
      "execution_count": null,
      "outputs": []
    },
    {
      "cell_type": "code",
      "metadata": {
        "id": "DBeP8yaj4cIt",
        "colab": {
          "base_uri": "https://localhost:8080/"
        },
        "outputId": "dd94c339-8515-4c15-f651-a3274b9676e5"
      },
      "source": [
        "nomes"
      ],
      "execution_count": null,
      "outputs": [
        {
          "output_type": "execute_result",
          "data": {
            "text/html": [
              "<div>\n",
              "<style scoped>\n",
              "    .dataframe tbody tr th:only-of-type {\n",
              "        vertical-align: middle;\n",
              "    }\n",
              "\n",
              "    .dataframe tbody tr th {\n",
              "        vertical-align: top;\n",
              "    }\n",
              "\n",
              "    .dataframe thead th {\n",
              "        text-align: right;\n",
              "    }\n",
              "</style>\n",
              "<table border=\"1\" class=\"dataframe\">\n",
              "  <thead>\n",
              "    <tr style=\"text-align: right;\">\n",
              "      <th></th>\n",
              "      <th>nome</th>\n",
              "      <th>ID_aluno</th>\n",
              "      <th>Domínio</th>\n",
              "      <th>email</th>\n",
              "      <th>matriculas</th>\n",
              "    </tr>\n",
              "  </thead>\n",
              "  <tbody>\n",
              "    <tr>\n",
              "      <th>0</th>\n",
              "      <td>MARIA</td>\n",
              "      <td>235</td>\n",
              "      <td>@dominiodoemail.com.br</td>\n",
              "      <td>maria@dominiodoemail.com.br</td>\n",
              "      <td>1</td>\n",
              "    </tr>\n",
              "    <tr>\n",
              "      <th>1</th>\n",
              "      <td>ANA</td>\n",
              "      <td>43</td>\n",
              "      <td>@servicodoemail.com</td>\n",
              "      <td>ana@servicodoemail.com</td>\n",
              "      <td>1</td>\n",
              "    </tr>\n",
              "    <tr>\n",
              "      <th>2</th>\n",
              "      <td>FRANCISCA</td>\n",
              "      <td>304</td>\n",
              "      <td>@servicodoemail.com</td>\n",
              "      <td>francisca@servicodoemail.com</td>\n",
              "      <td>5</td>\n",
              "    </tr>\n",
              "    <tr>\n",
              "      <th>3</th>\n",
              "      <td>ANTONIA</td>\n",
              "      <td>156</td>\n",
              "      <td>@dominiodoemail.com.br</td>\n",
              "      <td>antonia@dominiodoemail.com.br</td>\n",
              "      <td>5</td>\n",
              "    </tr>\n",
              "    <tr>\n",
              "      <th>4</th>\n",
              "      <td>ADRIANA</td>\n",
              "      <td>343</td>\n",
              "      <td>@servicodoemail.com</td>\n",
              "      <td>adriana@servicodoemail.com</td>\n",
              "      <td>1</td>\n",
              "    </tr>\n",
              "    <tr>\n",
              "      <th>...</th>\n",
              "      <td>...</td>\n",
              "      <td>...</td>\n",
              "      <td>...</td>\n",
              "      <td>...</td>\n",
              "      <td>...</td>\n",
              "    </tr>\n",
              "    <tr>\n",
              "      <th>195</th>\n",
              "      <td>WALTER</td>\n",
              "      <td>231</td>\n",
              "      <td>@dominiodoemail.com.br</td>\n",
              "      <td>walter@dominiodoemail.com.br</td>\n",
              "      <td>1</td>\n",
              "    </tr>\n",
              "    <tr>\n",
              "      <th>196</th>\n",
              "      <td>ARLINDO</td>\n",
              "      <td>99</td>\n",
              "      <td>@servicodoemail.com</td>\n",
              "      <td>arlindo@servicodoemail.com</td>\n",
              "      <td>4</td>\n",
              "    </tr>\n",
              "    <tr>\n",
              "      <th>197</th>\n",
              "      <td>MICHAEL</td>\n",
              "      <td>323</td>\n",
              "      <td>@dominiodoemail.com.br</td>\n",
              "      <td>michael@dominiodoemail.com.br</td>\n",
              "      <td>5</td>\n",
              "    </tr>\n",
              "    <tr>\n",
              "      <th>198</th>\n",
              "      <td>ALVARO</td>\n",
              "      <td>383</td>\n",
              "      <td>@dominiodoemail.com.br</td>\n",
              "      <td>alvaro@dominiodoemail.com.br</td>\n",
              "      <td>1</td>\n",
              "    </tr>\n",
              "    <tr>\n",
              "      <th>199</th>\n",
              "      <td>GEOVANE</td>\n",
              "      <td>366</td>\n",
              "      <td>@servicodoemail.com</td>\n",
              "      <td>geovane@servicodoemail.com</td>\n",
              "      <td>2</td>\n",
              "    </tr>\n",
              "  </tbody>\n",
              "</table>\n",
              "<p>400 rows × 5 columns</p>\n",
              "</div>"
            ],
            "text/plain": [
              "          nome  ID_aluno  ...                          email matriculas\n",
              "0        MARIA       235  ...    maria@dominiodoemail.com.br          1\n",
              "1          ANA        43  ...         ana@servicodoemail.com          1\n",
              "2    FRANCISCA       304  ...   francisca@servicodoemail.com          5\n",
              "3      ANTONIA       156  ...  antonia@dominiodoemail.com.br          5\n",
              "4      ADRIANA       343  ...     adriana@servicodoemail.com          1\n",
              "..         ...       ...  ...                            ...        ...\n",
              "195     WALTER       231  ...   walter@dominiodoemail.com.br          1\n",
              "196    ARLINDO        99  ...     arlindo@servicodoemail.com          4\n",
              "197    MICHAEL       323  ...  michael@dominiodoemail.com.br          5\n",
              "198     ALVARO       383  ...   alvaro@dominiodoemail.com.br          1\n",
              "199    GEOVANE       366  ...     geovane@servicodoemail.com          2\n",
              "\n",
              "[400 rows x 5 columns]"
            ]
          },
          "metadata": {
            "tags": []
          },
          "execution_count": 32
        }
      ]
    },
    {
      "cell_type": "code",
      "metadata": {
        "id": "Cqi-FK-_4dnM",
        "colab": {
          "base_uri": "https://localhost:8080/"
        },
        "outputId": "09fa61bd-ee22-4d3d-a9b1-df02fd0c4b9e"
      },
      "source": [
        "nomes.matriculas.describe()"
      ],
      "execution_count": null,
      "outputs": [
        {
          "output_type": "execute_result",
          "data": {
            "text/plain": [
              "count    400.000000\n",
              "mean       2.135000\n",
              "std        1.515757\n",
              "min        1.000000\n",
              "25%        1.000000\n",
              "50%        2.000000\n",
              "75%        3.000000\n",
              "max       12.000000\n",
              "Name: matriculas, dtype: float64"
            ]
          },
          "metadata": {
            "tags": []
          },
          "execution_count": 33
        }
      ]
    },
    {
      "cell_type": "code",
      "metadata": {
        "id": "aMh82K5O45Sw"
      },
      "source": [
        "import seaborn as sns"
      ],
      "execution_count": null,
      "outputs": []
    },
    {
      "cell_type": "code",
      "metadata": {
        "id": "U2t7u5iL5EBB",
        "colab": {
          "base_uri": "https://localhost:8080/"
        },
        "outputId": "e5859c21-684f-49e1-f05d-232aa1c350cb"
      },
      "source": [
        "sns.distplot(nomes.matriculas)"
      ],
      "execution_count": null,
      "outputs": [
        {
          "output_type": "stream",
          "text": [
            "/usr/local/lib/python3.6/dist-packages/seaborn/distributions.py:2551: FutureWarning: `distplot` is a deprecated function and will be removed in a future version. Please adapt your code to use either `displot` (a figure-level function with similar flexibility) or `histplot` (an axes-level function for histograms).\n",
            "  warnings.warn(msg, FutureWarning)\n"
          ],
          "name": "stderr"
        },
        {
          "output_type": "execute_result",
          "data": {
            "text/plain": [
              "<matplotlib.axes._subplots.AxesSubplot at 0x7fa177e56438>"
            ]
          },
          "metadata": {
            "tags": []
          },
          "execution_count": 35
        },
        {
          "output_type": "display_data",
          "data": {
            "image/png": "[encoded data removed]",
            "text/plain": [
              "<Figure size 432x288 with 1 Axes>"
            ]
          },
          "metadata": {
            "tags": [],
            "needs_background": "light"
          }
        }
      ]
    },
    {
      "cell_type": "code",
      "metadata": {
        "id": "-QpG97Sy5H01",
        "colab": {
          "base_uri": "https://localhost:8080/"
        },
        "outputId": "d505ddea-33b5-43c7-917c-1fefb5613d82"
      },
      "source": [
        "nomes.matriculas.value_counts()"
      ],
      "execution_count": null,
      "outputs": [
        {
          "output_type": "execute_result",
          "data": {
            "text/plain": [
              "1     184\n",
              "2      97\n",
              "3      56\n",
              "4      34\n",
              "5      19\n",
              "6       5\n",
              "12      2\n",
              "8       2\n",
              "7       1\n",
              "Name: matriculas, dtype: int64"
            ]
          },
          "metadata": {
            "tags": []
          },
          "execution_count": 36
        }
      ]
    },
    {
      "cell_type": "markdown",
      "metadata": {
        "id": "-2fMgCnx8m4E"
      },
      "source": [
        "#**Selecionando Cursos**"
      ]
    },
    {
      "cell_type": "code",
      "metadata": {
        "id": "DQwIaelo5TF7",
        "colab": {
          "base_uri": "https://localhost:8080/"
        },
        "outputId": "6d75051e-c7c7-4021-9acc-28e2ef3b7dc4"
      },
      "source": [
        "nomes.sample(5)"
      ],
      "execution_count": null,
      "outputs": [
        {
          "output_type": "execute_result",
          "data": {
            "text/html": [
              "<div>\n",
              "<style scoped>\n",
              "    .dataframe tbody tr th:only-of-type {\n",
              "        vertical-align: middle;\n",
              "    }\n",
              "\n",
              "    .dataframe tbody tr th {\n",
              "        vertical-align: top;\n",
              "    }\n",
              "\n",
              "    .dataframe thead th {\n",
              "        text-align: right;\n",
              "    }\n",
              "</style>\n",
              "<table border=\"1\" class=\"dataframe\">\n",
              "  <thead>\n",
              "    <tr style=\"text-align: right;\">\n",
              "      <th></th>\n",
              "      <th>nome</th>\n",
              "      <th>ID_aluno</th>\n",
              "      <th>Domínio</th>\n",
              "      <th>email</th>\n",
              "      <th>matriculas</th>\n",
              "    </tr>\n",
              "  </thead>\n",
              "  <tbody>\n",
              "    <tr>\n",
              "      <th>105</th>\n",
              "      <td>MILENA</td>\n",
              "      <td>371</td>\n",
              "      <td>@dominiodoemail.com.br</td>\n",
              "      <td>milena@dominiodoemail.com.br</td>\n",
              "      <td>2</td>\n",
              "    </tr>\n",
              "    <tr>\n",
              "      <th>183</th>\n",
              "      <td>IRACI</td>\n",
              "      <td>8</td>\n",
              "      <td>@dominiodoemail.com.br</td>\n",
              "      <td>iraci@dominiodoemail.com.br</td>\n",
              "      <td>1</td>\n",
              "    </tr>\n",
              "    <tr>\n",
              "      <th>10</th>\n",
              "      <td>LUIS</td>\n",
              "      <td>125</td>\n",
              "      <td>@dominiodoemail.com.br</td>\n",
              "      <td>luis@dominiodoemail.com.br</td>\n",
              "      <td>2</td>\n",
              "    </tr>\n",
              "    <tr>\n",
              "      <th>139</th>\n",
              "      <td>OSMAR</td>\n",
              "      <td>71</td>\n",
              "      <td>@dominiodoemail.com.br</td>\n",
              "      <td>osmar@dominiodoemail.com.br</td>\n",
              "      <td>2</td>\n",
              "    </tr>\n",
              "    <tr>\n",
              "      <th>40</th>\n",
              "      <td>SERGIO</td>\n",
              "      <td>139</td>\n",
              "      <td>@servicodoemail.com</td>\n",
              "      <td>sergio@servicodoemail.com</td>\n",
              "      <td>2</td>\n",
              "    </tr>\n",
              "  </tbody>\n",
              "</table>\n",
              "</div>"
            ],
            "text/plain": [
              "       nome  ID_aluno  ...                         email matriculas\n",
              "105  MILENA       371  ...  milena@dominiodoemail.com.br          2\n",
              "183   IRACI         8  ...   iraci@dominiodoemail.com.br          1\n",
              "10     LUIS       125  ...    luis@dominiodoemail.com.br          2\n",
              "139   OSMAR        71  ...   osmar@dominiodoemail.com.br          2\n",
              "40   SERGIO       139  ...     sergio@servicodoemail.com          2\n",
              "\n",
              "[5 rows x 5 columns]"
            ]
          },
          "metadata": {
            "tags": []
          },
          "execution_count": 37
        }
      ]
    },
    {
      "cell_type": "code",
      "metadata": {
        "id": "oEqsTIwa8Uvg"
      },
      "source": [
        "todas_matriculas = [ ]\n",
        "x = np.random.rand(20)\n",
        "prob = x / sum(x)"
      ],
      "execution_count": null,
      "outputs": []
    },
    {
      "cell_type": "code",
      "metadata": {
        "id": "nI0eEjXT9Eut"
      },
      "source": [
        "for index, row in nomes.iterrows():\n",
        "  id = row.ID_aluno\n",
        "  matriculas = row.matriculas\n",
        "  for i in range(matriculas):\n",
        "    mat = [id, np.random.choice(cursos.index, p = prob)]\n",
        "    todas_matriculas.append(mat)\n",
        "\n",
        "matriculas = pd.DataFrame(todas_matriculas, columns = ['ID_aluno', \"id_curso\"])"
      ],
      "execution_count": null,
      "outputs": []
    },
    {
      "cell_type": "code",
      "metadata": {
        "id": "9f9D75XJ-Loh",
        "colab": {
          "base_uri": "https://localhost:8080/"
        },
        "outputId": "5a229102-29a8-4e94-ea8b-bc3440a36e86"
      },
      "source": [
        "matriculas.head()"
      ],
      "execution_count": null,
      "outputs": [
        {
          "output_type": "execute_result",
          "data": {
            "text/html": [
              "<div>\n",
              "<style scoped>\n",
              "    .dataframe tbody tr th:only-of-type {\n",
              "        vertical-align: middle;\n",
              "    }\n",
              "\n",
              "    .dataframe tbody tr th {\n",
              "        vertical-align: top;\n",
              "    }\n",
              "\n",
              "    .dataframe thead th {\n",
              "        text-align: right;\n",
              "    }\n",
              "</style>\n",
              "<table border=\"1\" class=\"dataframe\">\n",
              "  <thead>\n",
              "    <tr style=\"text-align: right;\">\n",
              "      <th></th>\n",
              "      <th>ID_aluno</th>\n",
              "      <th>id_curso</th>\n",
              "    </tr>\n",
              "  </thead>\n",
              "  <tbody>\n",
              "    <tr>\n",
              "      <th>0</th>\n",
              "      <td>235</td>\n",
              "      <td>8</td>\n",
              "    </tr>\n",
              "    <tr>\n",
              "      <th>1</th>\n",
              "      <td>43</td>\n",
              "      <td>6</td>\n",
              "    </tr>\n",
              "    <tr>\n",
              "      <th>2</th>\n",
              "      <td>304</td>\n",
              "      <td>7</td>\n",
              "    </tr>\n",
              "    <tr>\n",
              "      <th>3</th>\n",
              "      <td>304</td>\n",
              "      <td>18</td>\n",
              "    </tr>\n",
              "    <tr>\n",
              "      <th>4</th>\n",
              "      <td>304</td>\n",
              "      <td>11</td>\n",
              "    </tr>\n",
              "  </tbody>\n",
              "</table>\n",
              "</div>"
            ],
            "text/plain": [
              "   ID_aluno  id_curso\n",
              "0       235         8\n",
              "1        43         6\n",
              "2       304         7\n",
              "3       304        18\n",
              "4       304        11"
            ]
          },
          "metadata": {
            "tags": []
          },
          "execution_count": 40
        }
      ]
    },
    {
      "cell_type": "code",
      "metadata": {
        "id": "WJOVcVxO-N2A",
        "colab": {
          "base_uri": "https://localhost:8080/"
        },
        "outputId": "019c8f7b-d58e-4fe7-d0dd-f99d40615149"
      },
      "source": [
        "matriculas.groupby('id_curso').count().join(cursos['Nome_do_curso'])"
      ],
      "execution_count": null,
      "outputs": [
        {
          "output_type": "execute_result",
          "data": {
            "text/html": [
              "<div>\n",
              "<style scoped>\n",
              "    .dataframe tbody tr th:only-of-type {\n",
              "        vertical-align: middle;\n",
              "    }\n",
              "\n",
              "    .dataframe tbody tr th {\n",
              "        vertical-align: top;\n",
              "    }\n",
              "\n",
              "    .dataframe thead th {\n",
              "        text-align: right;\n",
              "    }\n",
              "</style>\n",
              "<table border=\"1\" class=\"dataframe\">\n",
              "  <thead>\n",
              "    <tr style=\"text-align: right;\">\n",
              "      <th></th>\n",
              "      <th>ID_aluno</th>\n",
              "      <th>Nome_do_curso</th>\n",
              "    </tr>\n",
              "    <tr>\n",
              "      <th>id_curso</th>\n",
              "      <th></th>\n",
              "      <th></th>\n",
              "    </tr>\n",
              "  </thead>\n",
              "  <tbody>\n",
              "    <tr>\n",
              "      <th>1</th>\n",
              "      <td>24</td>\n",
              "      <td>Lógica de programação</td>\n",
              "    </tr>\n",
              "    <tr>\n",
              "      <th>2</th>\n",
              "      <td>52</td>\n",
              "      <td>Java para Web</td>\n",
              "    </tr>\n",
              "    <tr>\n",
              "      <th>3</th>\n",
              "      <td>54</td>\n",
              "      <td>C# para Web</td>\n",
              "    </tr>\n",
              "    <tr>\n",
              "      <th>4</th>\n",
              "      <td>51</td>\n",
              "      <td>Ruby on Rails</td>\n",
              "    </tr>\n",
              "    <tr>\n",
              "      <th>5</th>\n",
              "      <td>3</td>\n",
              "      <td>Cursos de Python</td>\n",
              "    </tr>\n",
              "    <tr>\n",
              "      <th>6</th>\n",
              "      <td>32</td>\n",
              "      <td>PHP com MySql</td>\n",
              "    </tr>\n",
              "    <tr>\n",
              "      <th>7</th>\n",
              "      <td>56</td>\n",
              "      <td>.NET para web</td>\n",
              "    </tr>\n",
              "    <tr>\n",
              "      <th>8</th>\n",
              "      <td>42</td>\n",
              "      <td>Novas integrações com Java</td>\n",
              "    </tr>\n",
              "    <tr>\n",
              "      <th>9</th>\n",
              "      <td>60</td>\n",
              "      <td>TDD com Java</td>\n",
              "    </tr>\n",
              "    <tr>\n",
              "      <th>10</th>\n",
              "      <td>68</td>\n",
              "      <td>Código limpo com C#</td>\n",
              "    </tr>\n",
              "    <tr>\n",
              "      <th>11</th>\n",
              "      <td>78</td>\n",
              "      <td>Preparatório para certificação Java</td>\n",
              "    </tr>\n",
              "    <tr>\n",
              "      <th>12</th>\n",
              "      <td>21</td>\n",
              "      <td>Hardware básico</td>\n",
              "    </tr>\n",
              "    <tr>\n",
              "      <th>13</th>\n",
              "      <td>21</td>\n",
              "      <td>Persistência com .NET</td>\n",
              "    </tr>\n",
              "    <tr>\n",
              "      <th>14</th>\n",
              "      <td>18</td>\n",
              "      <td>Desenvolvendo jogos</td>\n",
              "    </tr>\n",
              "    <tr>\n",
              "      <th>15</th>\n",
              "      <td>57</td>\n",
              "      <td>Análise de dados</td>\n",
              "    </tr>\n",
              "    <tr>\n",
              "      <th>16</th>\n",
              "      <td>24</td>\n",
              "      <td>Estatística básica</td>\n",
              "    </tr>\n",
              "    <tr>\n",
              "      <th>17</th>\n",
              "      <td>71</td>\n",
              "      <td>Internet das coisas</td>\n",
              "    </tr>\n",
              "    <tr>\n",
              "      <th>18</th>\n",
              "      <td>60</td>\n",
              "      <td>Programação funcional</td>\n",
              "    </tr>\n",
              "    <tr>\n",
              "      <th>19</th>\n",
              "      <td>6</td>\n",
              "      <td>Boas práticas em Java</td>\n",
              "    </tr>\n",
              "    <tr>\n",
              "      <th>20</th>\n",
              "      <td>56</td>\n",
              "      <td>Orientação objetos com Java</td>\n",
              "    </tr>\n",
              "  </tbody>\n",
              "</table>\n",
              "</div>"
            ],
            "text/plain": [
              "          ID_aluno                        Nome_do_curso\n",
              "id_curso                                               \n",
              "1               24                Lógica de programação\n",
              "2               52                        Java para Web\n",
              "3               54                          C# para Web\n",
              "4               51                        Ruby on Rails\n",
              "5                3                     Cursos de Python\n",
              "6               32                        PHP com MySql\n",
              "7               56                        .NET para web\n",
              "8               42           Novas integrações com Java\n",
              "9               60                         TDD com Java\n",
              "10              68                  Código limpo com C#\n",
              "11              78  Preparatório para certificação Java\n",
              "12              21                      Hardware básico\n",
              "13              21                Persistência com .NET\n",
              "14              18                  Desenvolvendo jogos\n",
              "15              57                     Análise de dados\n",
              "16              24                   Estatística básica\n",
              "17              71                  Internet das coisas\n",
              "18              60                Programação funcional\n",
              "19               6                Boas práticas em Java\n",
              "20              56          Orientação objetos com Java"
            ]
          },
          "metadata": {
            "tags": []
          },
          "execution_count": 41
        }
      ]
    },
    {
      "cell_type": "code",
      "metadata": {
        "id": "sFKaS_Xi-27V",
        "colab": {
          "base_uri": "https://localhost:8080/"
        },
        "outputId": "2084882d-6fff-49ee-d037-181970199bad"
      },
      "source": [
        "nomes.sample(3)"
      ],
      "execution_count": null,
      "outputs": [
        {
          "output_type": "execute_result",
          "data": {
            "text/html": [
              "<div>\n",
              "<style scoped>\n",
              "    .dataframe tbody tr th:only-of-type {\n",
              "        vertical-align: middle;\n",
              "    }\n",
              "\n",
              "    .dataframe tbody tr th {\n",
              "        vertical-align: top;\n",
              "    }\n",
              "\n",
              "    .dataframe thead th {\n",
              "        text-align: right;\n",
              "    }\n",
              "</style>\n",
              "<table border=\"1\" class=\"dataframe\">\n",
              "  <thead>\n",
              "    <tr style=\"text-align: right;\">\n",
              "      <th></th>\n",
              "      <th>nome</th>\n",
              "      <th>ID_aluno</th>\n",
              "      <th>Domínio</th>\n",
              "      <th>email</th>\n",
              "      <th>matriculas</th>\n",
              "    </tr>\n",
              "  </thead>\n",
              "  <tbody>\n",
              "    <tr>\n",
              "      <th>37</th>\n",
              "      <td>EDSON</td>\n",
              "      <td>123</td>\n",
              "      <td>@servicodoemail.com</td>\n",
              "      <td>edson@servicodoemail.com</td>\n",
              "      <td>1</td>\n",
              "    </tr>\n",
              "    <tr>\n",
              "      <th>141</th>\n",
              "      <td>ORLANDO</td>\n",
              "      <td>159</td>\n",
              "      <td>@servicodoemail.com</td>\n",
              "      <td>orlando@servicodoemail.com</td>\n",
              "      <td>8</td>\n",
              "    </tr>\n",
              "    <tr>\n",
              "      <th>192</th>\n",
              "      <td>ZILDA</td>\n",
              "      <td>237</td>\n",
              "      <td>@servicodoemail.com</td>\n",
              "      <td>zilda@servicodoemail.com</td>\n",
              "      <td>1</td>\n",
              "    </tr>\n",
              "  </tbody>\n",
              "</table>\n",
              "</div>"
            ],
            "text/plain": [
              "        nome  ID_aluno  ...                       email matriculas\n",
              "37     EDSON       123  ...    edson@servicodoemail.com          1\n",
              "141  ORLANDO       159  ...  orlando@servicodoemail.com          8\n",
              "192    ZILDA       237  ...    zilda@servicodoemail.com          1\n",
              "\n",
              "[3 rows x 5 columns]"
            ]
          },
          "metadata": {
            "tags": []
          },
          "execution_count": 42
        }
      ]
    },
    {
      "cell_type": "code",
      "metadata": {
        "id": "dM2vwdYz_tMf",
        "colab": {
          "base_uri": "https://localhost:8080/"
        },
        "outputId": "f248974f-05bc-4cfc-f8f9-27d5fde5f8c4"
      },
      "source": [
        "cursos.head()"
      ],
      "execution_count": null,
      "outputs": [
        {
          "output_type": "execute_result",
          "data": {
            "text/html": [
              "<div>\n",
              "<style scoped>\n",
              "    .dataframe tbody tr th:only-of-type {\n",
              "        vertical-align: middle;\n",
              "    }\n",
              "\n",
              "    .dataframe tbody tr th {\n",
              "        vertical-align: top;\n",
              "    }\n",
              "\n",
              "    .dataframe thead th {\n",
              "        text-align: right;\n",
              "    }\n",
              "</style>\n",
              "<table border=\"1\" class=\"dataframe\">\n",
              "  <thead>\n",
              "    <tr style=\"text-align: right;\">\n",
              "      <th></th>\n",
              "      <th>Nome_do_curso</th>\n",
              "    </tr>\n",
              "    <tr>\n",
              "      <th>id</th>\n",
              "      <th></th>\n",
              "    </tr>\n",
              "  </thead>\n",
              "  <tbody>\n",
              "    <tr>\n",
              "      <th>1</th>\n",
              "      <td>Lógica de programação</td>\n",
              "    </tr>\n",
              "    <tr>\n",
              "      <th>2</th>\n",
              "      <td>Java para Web</td>\n",
              "    </tr>\n",
              "    <tr>\n",
              "      <th>3</th>\n",
              "      <td>C# para Web</td>\n",
              "    </tr>\n",
              "    <tr>\n",
              "      <th>4</th>\n",
              "      <td>Ruby on Rails</td>\n",
              "    </tr>\n",
              "    <tr>\n",
              "      <th>5</th>\n",
              "      <td>Cursos de Python</td>\n",
              "    </tr>\n",
              "  </tbody>\n",
              "</table>\n",
              "</div>"
            ],
            "text/plain": [
              "            Nome_do_curso\n",
              "id                       \n",
              "1   Lógica de programação\n",
              "2           Java para Web\n",
              "3             C# para Web\n",
              "4           Ruby on Rails\n",
              "5        Cursos de Python"
            ]
          },
          "metadata": {
            "tags": []
          },
          "execution_count": 43
        }
      ]
    },
    {
      "cell_type": "code",
      "metadata": {
        "id": "O6sjkDey_wa-",
        "colab": {
          "base_uri": "https://localhost:8080/"
        },
        "outputId": "934275d7-a2d7-4880-94be-a34bdd79b13c"
      },
      "source": [
        "matriculas.head()"
      ],
      "execution_count": null,
      "outputs": [
        {
          "output_type": "execute_result",
          "data": {
            "text/html": [
              "<div>\n",
              "<style scoped>\n",
              "    .dataframe tbody tr th:only-of-type {\n",
              "        vertical-align: middle;\n",
              "    }\n",
              "\n",
              "    .dataframe tbody tr th {\n",
              "        vertical-align: top;\n",
              "    }\n",
              "\n",
              "    .dataframe thead th {\n",
              "        text-align: right;\n",
              "    }\n",
              "</style>\n",
              "<table border=\"1\" class=\"dataframe\">\n",
              "  <thead>\n",
              "    <tr style=\"text-align: right;\">\n",
              "      <th></th>\n",
              "      <th>ID_aluno</th>\n",
              "      <th>id_curso</th>\n",
              "    </tr>\n",
              "  </thead>\n",
              "  <tbody>\n",
              "    <tr>\n",
              "      <th>0</th>\n",
              "      <td>235</td>\n",
              "      <td>8</td>\n",
              "    </tr>\n",
              "    <tr>\n",
              "      <th>1</th>\n",
              "      <td>43</td>\n",
              "      <td>6</td>\n",
              "    </tr>\n",
              "    <tr>\n",
              "      <th>2</th>\n",
              "      <td>304</td>\n",
              "      <td>7</td>\n",
              "    </tr>\n",
              "    <tr>\n",
              "      <th>3</th>\n",
              "      <td>304</td>\n",
              "      <td>18</td>\n",
              "    </tr>\n",
              "    <tr>\n",
              "      <th>4</th>\n",
              "      <td>304</td>\n",
              "      <td>11</td>\n",
              "    </tr>\n",
              "  </tbody>\n",
              "</table>\n",
              "</div>"
            ],
            "text/plain": [
              "   ID_aluno  id_curso\n",
              "0       235         8\n",
              "1        43         6\n",
              "2       304         7\n",
              "3       304        18\n",
              "4       304        11"
            ]
          },
          "metadata": {
            "tags": []
          },
          "execution_count": 44
        }
      ]
    },
    {
      "cell_type": "code",
      "metadata": {
        "id": "9j-woQtn_zQK",
        "colab": {
          "base_uri": "https://localhost:8080/"
        },
        "outputId": "13c05964-5fd2-43df-f780-0256128e0a01"
      },
      "source": [
        "matriculas_curso = matriculas.groupby('id_curso').count().join(cursos['Nome_do_curso'])\n",
        "matriculas_curso"
      ],
      "execution_count": null,
      "outputs": [
        {
          "output_type": "execute_result",
          "data": {
            "text/html": [
              "<div>\n",
              "<style scoped>\n",
              "    .dataframe tbody tr th:only-of-type {\n",
              "        vertical-align: middle;\n",
              "    }\n",
              "\n",
              "    .dataframe tbody tr th {\n",
              "        vertical-align: top;\n",
              "    }\n",
              "\n",
              "    .dataframe thead th {\n",
              "        text-align: right;\n",
              "    }\n",
              "</style>\n",
              "<table border=\"1\" class=\"dataframe\">\n",
              "  <thead>\n",
              "    <tr style=\"text-align: right;\">\n",
              "      <th></th>\n",
              "      <th>ID_aluno</th>\n",
              "      <th>Nome_do_curso</th>\n",
              "    </tr>\n",
              "    <tr>\n",
              "      <th>id_curso</th>\n",
              "      <th></th>\n",
              "      <th></th>\n",
              "    </tr>\n",
              "  </thead>\n",
              "  <tbody>\n",
              "    <tr>\n",
              "      <th>1</th>\n",
              "      <td>24</td>\n",
              "      <td>Lógica de programação</td>\n",
              "    </tr>\n",
              "    <tr>\n",
              "      <th>2</th>\n",
              "      <td>52</td>\n",
              "      <td>Java para Web</td>\n",
              "    </tr>\n",
              "    <tr>\n",
              "      <th>3</th>\n",
              "      <td>54</td>\n",
              "      <td>C# para Web</td>\n",
              "    </tr>\n",
              "    <tr>\n",
              "      <th>4</th>\n",
              "      <td>51</td>\n",
              "      <td>Ruby on Rails</td>\n",
              "    </tr>\n",
              "    <tr>\n",
              "      <th>5</th>\n",
              "      <td>3</td>\n",
              "      <td>Cursos de Python</td>\n",
              "    </tr>\n",
              "    <tr>\n",
              "      <th>6</th>\n",
              "      <td>32</td>\n",
              "      <td>PHP com MySql</td>\n",
              "    </tr>\n",
              "    <tr>\n",
              "      <th>7</th>\n",
              "      <td>56</td>\n",
              "      <td>.NET para web</td>\n",
              "    </tr>\n",
              "    <tr>\n",
              "      <th>8</th>\n",
              "      <td>42</td>\n",
              "      <td>Novas integrações com Java</td>\n",
              "    </tr>\n",
              "    <tr>\n",
              "      <th>9</th>\n",
              "      <td>60</td>\n",
              "      <td>TDD com Java</td>\n",
              "    </tr>\n",
              "    <tr>\n",
              "      <th>10</th>\n",
              "      <td>68</td>\n",
              "      <td>Código limpo com C#</td>\n",
              "    </tr>\n",
              "    <tr>\n",
              "      <th>11</th>\n",
              "      <td>78</td>\n",
              "      <td>Preparatório para certificação Java</td>\n",
              "    </tr>\n",
              "    <tr>\n",
              "      <th>12</th>\n",
              "      <td>21</td>\n",
              "      <td>Hardware básico</td>\n",
              "    </tr>\n",
              "    <tr>\n",
              "      <th>13</th>\n",
              "      <td>21</td>\n",
              "      <td>Persistência com .NET</td>\n",
              "    </tr>\n",
              "    <tr>\n",
              "      <th>14</th>\n",
              "      <td>18</td>\n",
              "      <td>Desenvolvendo jogos</td>\n",
              "    </tr>\n",
              "    <tr>\n",
              "      <th>15</th>\n",
              "      <td>57</td>\n",
              "      <td>Análise de dados</td>\n",
              "    </tr>\n",
              "    <tr>\n",
              "      <th>16</th>\n",
              "      <td>24</td>\n",
              "      <td>Estatística básica</td>\n",
              "    </tr>\n",
              "    <tr>\n",
              "      <th>17</th>\n",
              "      <td>71</td>\n",
              "      <td>Internet das coisas</td>\n",
              "    </tr>\n",
              "    <tr>\n",
              "      <th>18</th>\n",
              "      <td>60</td>\n",
              "      <td>Programação funcional</td>\n",
              "    </tr>\n",
              "    <tr>\n",
              "      <th>19</th>\n",
              "      <td>6</td>\n",
              "      <td>Boas práticas em Java</td>\n",
              "    </tr>\n",
              "    <tr>\n",
              "      <th>20</th>\n",
              "      <td>56</td>\n",
              "      <td>Orientação objetos com Java</td>\n",
              "    </tr>\n",
              "  </tbody>\n",
              "</table>\n",
              "</div>"
            ],
            "text/plain": [
              "          ID_aluno                        Nome_do_curso\n",
              "id_curso                                               \n",
              "1               24                Lógica de programação\n",
              "2               52                        Java para Web\n",
              "3               54                          C# para Web\n",
              "4               51                        Ruby on Rails\n",
              "5                3                     Cursos de Python\n",
              "6               32                        PHP com MySql\n",
              "7               56                        .NET para web\n",
              "8               42           Novas integrações com Java\n",
              "9               60                         TDD com Java\n",
              "10              68                  Código limpo com C#\n",
              "11              78  Preparatório para certificação Java\n",
              "12              21                      Hardware básico\n",
              "13              21                Persistência com .NET\n",
              "14              18                  Desenvolvendo jogos\n",
              "15              57                     Análise de dados\n",
              "16              24                   Estatística básica\n",
              "17              71                  Internet das coisas\n",
              "18              60                Programação funcional\n",
              "19               6                Boas práticas em Java\n",
              "20              56          Orientação objetos com Java"
            ]
          },
          "metadata": {
            "tags": []
          },
          "execution_count": 45
        }
      ]
    },
    {
      "cell_type": "markdown",
      "metadata": {
        "id": "zBco0CD6AXRm"
      },
      "source": [
        "#**Saída em diferentes formatos**"
      ]
    },
    {
      "cell_type": "code",
      "metadata": {
        "id": "pMga-eRS_7Ws",
        "colab": {
          "base_uri": "https://localhost:8080/"
        },
        "outputId": "23fbed54-ea65-45ed-c1c3-bac38e667087"
      },
      "source": [
        "matriculas_curso.head()"
      ],
      "execution_count": null,
      "outputs": [
        {
          "output_type": "execute_result",
          "data": {
            "text/html": [
              "<div>\n",
              "<style scoped>\n",
              "    .dataframe tbody tr th:only-of-type {\n",
              "        vertical-align: middle;\n",
              "    }\n",
              "\n",
              "    .dataframe tbody tr th {\n",
              "        vertical-align: top;\n",
              "    }\n",
              "\n",
              "    .dataframe thead th {\n",
              "        text-align: right;\n",
              "    }\n",
              "</style>\n",
              "<table border=\"1\" class=\"dataframe\">\n",
              "  <thead>\n",
              "    <tr style=\"text-align: right;\">\n",
              "      <th></th>\n",
              "      <th>ID_aluno</th>\n",
              "      <th>Nome_do_curso</th>\n",
              "    </tr>\n",
              "    <tr>\n",
              "      <th>id_curso</th>\n",
              "      <th></th>\n",
              "      <th></th>\n",
              "    </tr>\n",
              "  </thead>\n",
              "  <tbody>\n",
              "    <tr>\n",
              "      <th>1</th>\n",
              "      <td>24</td>\n",
              "      <td>Lógica de programação</td>\n",
              "    </tr>\n",
              "    <tr>\n",
              "      <th>2</th>\n",
              "      <td>52</td>\n",
              "      <td>Java para Web</td>\n",
              "    </tr>\n",
              "    <tr>\n",
              "      <th>3</th>\n",
              "      <td>54</td>\n",
              "      <td>C# para Web</td>\n",
              "    </tr>\n",
              "    <tr>\n",
              "      <th>4</th>\n",
              "      <td>51</td>\n",
              "      <td>Ruby on Rails</td>\n",
              "    </tr>\n",
              "    <tr>\n",
              "      <th>5</th>\n",
              "      <td>3</td>\n",
              "      <td>Cursos de Python</td>\n",
              "    </tr>\n",
              "  </tbody>\n",
              "</table>\n",
              "</div>"
            ],
            "text/plain": [
              "          ID_aluno          Nome_do_curso\n",
              "id_curso                                 \n",
              "1               24  Lógica de programação\n",
              "2               52          Java para Web\n",
              "3               54            C# para Web\n",
              "4               51          Ruby on Rails\n",
              "5                3       Cursos de Python"
            ]
          },
          "metadata": {
            "tags": []
          },
          "execution_count": 46
        }
      ]
    },
    {
      "cell_type": "code",
      "metadata": {
        "id": "OKoX2N3-Adqy"
      },
      "source": [
        "matriculas_curso.to_csv('Matriculas_por_curso.csv', index= False)"
      ],
      "execution_count": null,
      "outputs": []
    },
    {
      "cell_type": "code",
      "metadata": {
        "id": "KagHZg81AqUq",
        "colab": {
          "base_uri": "https://localhost:8080/"
        },
        "outputId": "9ac41abb-1caa-4694-ce6d-b4399e10475a"
      },
      "source": [
        "pd.read_csv(\"Matriculas_por_curso.csv\")"
      ],
      "execution_count": null,
      "outputs": [
        {
          "output_type": "execute_result",
          "data": {
            "text/html": [
              "<div>\n",
              "<style scoped>\n",
              "    .dataframe tbody tr th:only-of-type {\n",
              "        vertical-align: middle;\n",
              "    }\n",
              "\n",
              "    .dataframe tbody tr th {\n",
              "        vertical-align: top;\n",
              "    }\n",
              "\n",
              "    .dataframe thead th {\n",
              "        text-align: right;\n",
              "    }\n",
              "</style>\n",
              "<table border=\"1\" class=\"dataframe\">\n",
              "  <thead>\n",
              "    <tr style=\"text-align: right;\">\n",
              "      <th></th>\n",
              "      <th>ID_aluno</th>\n",
              "      <th>Nome_do_curso</th>\n",
              "    </tr>\n",
              "  </thead>\n",
              "  <tbody>\n",
              "    <tr>\n",
              "      <th>0</th>\n",
              "      <td>24</td>\n",
              "      <td>Lógica de programação</td>\n",
              "    </tr>\n",
              "    <tr>\n",
              "      <th>1</th>\n",
              "      <td>52</td>\n",
              "      <td>Java para Web</td>\n",
              "    </tr>\n",
              "    <tr>\n",
              "      <th>2</th>\n",
              "      <td>54</td>\n",
              "      <td>C# para Web</td>\n",
              "    </tr>\n",
              "    <tr>\n",
              "      <th>3</th>\n",
              "      <td>51</td>\n",
              "      <td>Ruby on Rails</td>\n",
              "    </tr>\n",
              "    <tr>\n",
              "      <th>4</th>\n",
              "      <td>3</td>\n",
              "      <td>Cursos de Python</td>\n",
              "    </tr>\n",
              "    <tr>\n",
              "      <th>5</th>\n",
              "      <td>32</td>\n",
              "      <td>PHP com MySql</td>\n",
              "    </tr>\n",
              "    <tr>\n",
              "      <th>6</th>\n",
              "      <td>56</td>\n",
              "      <td>.NET para web</td>\n",
              "    </tr>\n",
              "    <tr>\n",
              "      <th>7</th>\n",
              "      <td>42</td>\n",
              "      <td>Novas integrações com Java</td>\n",
              "    </tr>\n",
              "    <tr>\n",
              "      <th>8</th>\n",
              "      <td>60</td>\n",
              "      <td>TDD com Java</td>\n",
              "    </tr>\n",
              "    <tr>\n",
              "      <th>9</th>\n",
              "      <td>68</td>\n",
              "      <td>Código limpo com C#</td>\n",
              "    </tr>\n",
              "    <tr>\n",
              "      <th>10</th>\n",
              "      <td>78</td>\n",
              "      <td>Preparatório para certificação Java</td>\n",
              "    </tr>\n",
              "    <tr>\n",
              "      <th>11</th>\n",
              "      <td>21</td>\n",
              "      <td>Hardware básico</td>\n",
              "    </tr>\n",
              "    <tr>\n",
              "      <th>12</th>\n",
              "      <td>21</td>\n",
              "      <td>Persistência com .NET</td>\n",
              "    </tr>\n",
              "    <tr>\n",
              "      <th>13</th>\n",
              "      <td>18</td>\n",
              "      <td>Desenvolvendo jogos</td>\n",
              "    </tr>\n",
              "    <tr>\n",
              "      <th>14</th>\n",
              "      <td>57</td>\n",
              "      <td>Análise de dados</td>\n",
              "    </tr>\n",
              "    <tr>\n",
              "      <th>15</th>\n",
              "      <td>24</td>\n",
              "      <td>Estatística básica</td>\n",
              "    </tr>\n",
              "    <tr>\n",
              "      <th>16</th>\n",
              "      <td>71</td>\n",
              "      <td>Internet das coisas</td>\n",
              "    </tr>\n",
              "    <tr>\n",
              "      <th>17</th>\n",
              "      <td>60</td>\n",
              "      <td>Programação funcional</td>\n",
              "    </tr>\n",
              "    <tr>\n",
              "      <th>18</th>\n",
              "      <td>6</td>\n",
              "      <td>Boas práticas em Java</td>\n",
              "    </tr>\n",
              "    <tr>\n",
              "      <th>19</th>\n",
              "      <td>56</td>\n",
              "      <td>Orientação objetos com Java</td>\n",
              "    </tr>\n",
              "  </tbody>\n",
              "</table>\n",
              "</div>"
            ],
            "text/plain": [
              "    ID_aluno                        Nome_do_curso\n",
              "0         24                Lógica de programação\n",
              "1         52                        Java para Web\n",
              "2         54                          C# para Web\n",
              "3         51                        Ruby on Rails\n",
              "4          3                     Cursos de Python\n",
              "5         32                        PHP com MySql\n",
              "6         56                        .NET para web\n",
              "7         42           Novas integrações com Java\n",
              "8         60                         TDD com Java\n",
              "9         68                  Código limpo com C#\n",
              "10        78  Preparatório para certificação Java\n",
              "11        21                      Hardware básico\n",
              "12        21                Persistência com .NET\n",
              "13        18                  Desenvolvendo jogos\n",
              "14        57                     Análise de dados\n",
              "15        24                   Estatística básica\n",
              "16        71                  Internet das coisas\n",
              "17        60                Programação funcional\n",
              "18         6                Boas práticas em Java\n",
              "19        56          Orientação objetos com Java"
            ]
          },
          "metadata": {
            "tags": []
          },
          "execution_count": 48
        }
      ]
    },
    {
      "cell_type": "code",
      "metadata": {
        "id": "J_QIpsv2Av2v"
      },
      "source": [
        "#json\n",
        "matriculas_json = matriculas.to_json()"
      ],
      "execution_count": null,
      "outputs": []
    },
    {
      "cell_type": "code",
      "metadata": {
        "id": "w3luYG6UA8lt",
        "colab": {
          "base_uri": "https://localhost:8080/"
        },
        "outputId": "df73caac-742e-4651-ccfd-1e54f5315622"
      },
      "source": [
        "matriculas_json"
      ],
      "execution_count": null,
      "outputs": [
        {
          "output_type": "execute_result",
          "data": {
            "application/vnd.google.colaboratory.intrinsic+json": {
              "type": "string"
            },
            "text/plain": [
              "'{\"ID_aluno\":{\"0\":235,\"1\":43,\"2\":304,\"3\":304,\"4\":304,\"5\":304,\"6\":304,\"7\":156,\"8\":156,\"9\":156,\"10\":156,\"11\":156,\"12\":343,\"13\":310,\"14\":55,\"15\":55,\"16\":55,\"17\":288,\"18\":288,\"19\":379,\"20\":92,\"21\":174,\"22\":218,\"23\":218,\"24\":218,\"25\":218,\"26\":218,\"27\":218,\"28\":218,\"29\":217,\"30\":34,\"31\":34,\"32\":34,\"33\":185,\"34\":185,\"35\":185,\"36\":185,\"37\":185,\"38\":347,\"39\":347,\"40\":191,\"41\":163,\"42\":163,\"43\":42,\"44\":10,\"45\":10,\"46\":10,\"47\":10,\"48\":200,\"49\":200,\"50\":287,\"51\":287,\"52\":287,\"53\":287,\"54\":287,\"55\":80,\"56\":173,\"57\":16,\"58\":16,\"59\":49,\"60\":12,\"61\":12,\"62\":240,\"63\":240,\"64\":242,\"65\":328,\"66\":172,\"67\":172,\"68\":172,\"69\":103,\"70\":284,\"71\":284,\"72\":284,\"73\":284,\"74\":284,\"75\":284,\"76\":192,\"77\":192,\"78\":192,\"79\":192,\"80\":350,\"81\":262,\"82\":262,\"83\":262,\"84\":338,\"85\":338,\"86\":333,\"87\":76,\"88\":76,\"89\":76,\"90\":76,\"91\":76,\"92\":297,\"93\":297,\"94\":297,\"95\":238,\"96\":238,\"97\":238,\"98\":296,\"99\":296,\"100\":296,\"101\":296,\"102\":268,\"103\":268,\"104\":268,\"105\":268,\"106\":158,\"107\":259,\"108\":259,\"109\":259,\"110\":259,\"111\":259,\"112\":37,\"113\":358,\"114\":358,\"115\":358,\"116\":358,\"117\":241,\"118\":391,\"119\":391,\"120\":391,\"121\":249,\"122\":27,\"123\":27,\"124\":27,\"125\":102,\"126\":102,\"127\":102,\"128\":276,\"129\":233,\"130\":233,\"131\":233,\"132\":233,\"133\":281,\"134\":281,\"135\":281,\"136\":25,\"137\":25,\"138\":14,\"139\":14,\"140\":303,\"141\":193,\"142\":83,\"143\":32,\"144\":32,\"145\":21,\"146\":21,\"147\":21,\"148\":60,\"149\":60,\"150\":228,\"151\":396,\"152\":396,\"153\":396,\"154\":278,\"155\":278,\"156\":278,\"157\":122,\"158\":212,\"159\":212,\"160\":212,\"161\":108,\"162\":108,\"163\":108,\"164\":108,\"165\":151,\"166\":151,\"167\":73,\"168\":265,\"169\":232,\"170\":232,\"171\":232,\"172\":53,\"173\":246,\"174\":180,\"175\":203,\"176\":203,\"177\":203,\"178\":203,\"179\":324,\"180\":115,\"181\":115,\"182\":115,\"183\":115,\"184\":329,\"185\":179,\"186\":179,\"187\":179,\"188\":253,\"189\":253,\"190\":7,\"191\":7,\"192\":275,\"193\":126,\"194\":126,\"195\":221,\"196\":381,\"197\":273,\"198\":273,\"199\":273,\"200\":96,\"201\":96,\"202\":166,\"203\":166,\"204\":213,\"205\":213,\"206\":213,\"207\":213,\"208\":367,\"209\":377,\"210\":372,\"211\":372,\"212\":1,\"213\":292,\"214\":292,\"215\":211,\"216\":211,\"217\":211,\"218\":211,\"219\":201,\"220\":201,\"221\":148,\"222\":148,\"223\":148,\"224\":148,\"225\":148,\"226\":39,\"227\":171,\"228\":171,\"229\":171,\"230\":298,\"231\":298,\"232\":149,\"233\":145,\"234\":13,\"235\":371,\"236\":371,\"237\":342,\"238\":342,\"239\":342,\"240\":56,\"241\":31,\"242\":300,\"243\":22,\"244\":22,\"245\":22,\"246\":22,\"247\":22,\"248\":121,\"249\":161,\"250\":161,\"251\":161,\"252\":143,\"253\":380,\"254\":380,\"255\":94,\"256\":94,\"257\":261,\"258\":189,\"259\":285,\"260\":285,\"261\":285,\"262\":285,\"263\":285,\"264\":285,\"265\":285,\"266\":285,\"267\":285,\"268\":285,\"269\":285,\"270\":285,\"271\":190,\"272\":190,\"273\":178,\"274\":106,\"275\":106,\"276\":6,\"277\":289,\"278\":289,\"279\":280,\"280\":280,\"281\":20,\"282\":30,\"283\":79,\"284\":357,\"285\":357,\"286\":357,\"287\":135,\"288\":135,\"289\":135,\"290\":135,\"291\":135,\"292\":197,\"293\":370,\"294\":370,\"295\":72,\"296\":95,\"297\":274,\"298\":387,\"299\":387,\"300\":36,\"301\":36,\"302\":129,\"303\":75,\"304\":54,\"305\":54,\"306\":54,\"307\":54,\"308\":54,\"309\":23,\"310\":325,\"311\":286,\"312\":301,\"313\":301,\"314\":301,\"315\":301,\"316\":91,\"317\":91,\"318\":316,\"319\":316,\"320\":352,\"321\":397,\"322\":334,\"323\":399,\"324\":399,\"325\":399,\"326\":176,\"327\":176,\"328\":5,\"329\":160,\"330\":368,\"331\":182,\"332\":182,\"333\":144,\"334\":144,\"335\":386,\"336\":386,\"337\":153,\"338\":153,\"339\":153,\"340\":153,\"341\":81,\"342\":81,\"343\":81,\"344\":118,\"345\":118,\"346\":118,\"347\":157,\"348\":157,\"349\":247,\"350\":202,\"351\":308,\"352\":308,\"353\":308,\"354\":308,\"355\":308,\"356\":105,\"357\":62,\"358\":62,\"359\":109,\"360\":109,\"361\":109,\"362\":128,\"363\":82,\"364\":82,\"365\":82,\"366\":82,\"367\":82,\"368\":82,\"369\":394,\"370\":394,\"371\":394,\"372\":394,\"373\":243,\"374\":45,\"375\":165,\"376\":165,\"377\":165,\"378\":165,\"379\":314,\"380\":90,\"381\":317,\"382\":317,\"383\":375,\"384\":353,\"385\":353,\"386\":250,\"387\":250,\"388\":299,\"389\":299,\"390\":167,\"391\":168,\"392\":168,\"393\":168,\"394\":389,\"395\":389,\"396\":389,\"397\":389,\"398\":389,\"399\":389,\"400\":8,\"401\":282,\"402\":282,\"403\":282,\"404\":282,\"405\":116,\"406\":319,\"407\":229,\"408\":229,\"409\":229,\"410\":369,\"411\":137,\"412\":346,\"413\":264,\"414\":237,\"415\":146,\"416\":146,\"417\":277,\"418\":227,\"419\":222,\"420\":222,\"421\":50,\"422\":38,\"423\":38,\"424\":38,\"425\":38,\"426\":38,\"427\":38,\"428\":38,\"429\":38,\"430\":35,\"431\":331,\"432\":331,\"433\":24,\"434\":24,\"435\":24,\"436\":205,\"437\":382,\"438\":230,\"439\":11,\"440\":67,\"441\":67,\"442\":29,\"443\":29,\"444\":208,\"445\":390,\"446\":125,\"447\":125,\"448\":219,\"449\":219,\"450\":219,\"451\":162,\"452\":162,\"453\":195,\"454\":138,\"455\":138,\"456\":138,\"457\":138,\"458\":293,\"459\":224,\"460\":113,\"461\":113,\"462\":70,\"463\":70,\"464\":70,\"465\":133,\"466\":133,\"467\":101,\"468\":101,\"469\":309,\"470\":311,\"471\":321,\"472\":400,\"473\":400,\"474\":400,\"475\":236,\"476\":236,\"477\":236,\"478\":236,\"479\":236,\"480\":86,\"481\":86,\"482\":327,\"483\":302,\"484\":302,\"485\":267,\"486\":111,\"487\":336,\"488\":336,\"489\":336,\"490\":336,\"491\":336,\"492\":336,\"493\":336,\"494\":336,\"495\":336,\"496\":336,\"497\":336,\"498\":336,\"499\":322,\"500\":322,\"501\":330,\"502\":330,\"503\":152,\"504\":152,\"505\":152,\"506\":152,\"507\":188,\"508\":364,\"509\":364,\"510\":123,\"511\":294,\"512\":132,\"513\":132,\"514\":139,\"515\":139,\"516\":204,\"517\":93,\"518\":339,\"519\":318,\"520\":318,\"521\":196,\"522\":196,\"523\":196,\"524\":63,\"525\":63,\"526\":63,\"527\":63,\"528\":210,\"529\":384,\"530\":384,\"531\":384,\"532\":384,\"533\":384,\"534\":337,\"535\":337,\"536\":337,\"537\":183,\"538\":175,\"539\":220,\"540\":356,\"541\":164,\"542\":186,\"543\":46,\"544\":345,\"545\":345,\"546\":131,\"547\":51,\"548\":51,\"549\":98,\"550\":98,\"551\":198,\"552\":216,\"553\":239,\"554\":239,\"555\":290,\"556\":290,\"557\":290,\"558\":290,\"559\":395,\"560\":348,\"561\":348,\"562\":348,\"563\":64,\"564\":64,\"565\":64,\"566\":283,\"567\":170,\"568\":248,\"569\":248,\"570\":258,\"571\":258,\"572\":258,\"573\":252,\"574\":252,\"575\":252,\"576\":252,\"577\":270,\"578\":355,\"579\":355,\"580\":392,\"581\":154,\"582\":360,\"583\":360,\"584\":360,\"585\":41,\"586\":307,\"587\":373,\"588\":373,\"589\":373,\"590\":66,\"591\":207,\"592\":207,\"593\":9,\"594\":9,\"595\":9,\"596\":78,\"597\":59,\"598\":59,\"599\":251,\"600\":251,\"601\":251,\"602\":120,\"603\":120,\"604\":120,\"605\":142,\"606\":142,\"607\":142,\"608\":142,\"609\":89,\"610\":365,\"611\":365,\"612\":255,\"613\":61,\"614\":61,\"615\":257,\"616\":257,\"617\":257,\"618\":344,\"619\":47,\"620\":47,\"621\":87,\"622\":87,\"623\":87,\"624\":110,\"625\":110,\"626\":110,\"627\":110,\"628\":110,\"629\":134,\"630\":134,\"631\":17,\"632\":194,\"633\":363,\"634\":363,\"635\":363,\"636\":363,\"637\":117,\"638\":295,\"639\":295,\"640\":295,\"641\":295,\"642\":28,\"643\":141,\"644\":141,\"645\":141,\"646\":141,\"647\":141,\"648\":141,\"649\":199,\"650\":15,\"651\":15,\"652\":15,\"653\":15,\"654\":88,\"655\":88,\"656\":266,\"657\":266,\"658\":263,\"659\":263,\"660\":263,\"661\":263,\"662\":263,\"663\":263,\"664\":223,\"665\":223,\"666\":223,\"667\":223,\"668\":223,\"669\":244,\"670\":244,\"671\":244,\"672\":260,\"673\":260,\"674\":320,\"675\":320,\"676\":104,\"677\":150,\"678\":140,\"679\":68,\"680\":4,\"681\":57,\"682\":305,\"683\":305,\"684\":305,\"685\":234,\"686\":52,\"687\":52,\"688\":2,\"689\":19,\"690\":19,\"691\":269,\"692\":374,\"693\":313,\"694\":313,\"695\":313,\"696\":26,\"697\":184,\"698\":184,\"699\":184,\"700\":184,\"701\":187,\"702\":44,\"703\":44,\"704\":44,\"705\":44,\"706\":44,\"707\":130,\"708\":245,\"709\":256,\"710\":256,\"711\":271,\"712\":271,\"713\":271,\"714\":271,\"715\":271,\"716\":376,\"717\":155,\"718\":155,\"719\":155,\"720\":71,\"721\":71,\"722\":361,\"723\":361,\"724\":159,\"725\":159,\"726\":159,\"727\":159,\"728\":159,\"729\":159,\"730\":159,\"731\":159,\"732\":378,\"733\":272,\"734\":147,\"735\":147,\"736\":206,\"737\":206,\"738\":279,\"739\":315,\"740\":315,\"741\":332,\"742\":65,\"743\":326,\"744\":393,\"745\":393,\"746\":393,\"747\":169,\"748\":169,\"749\":169,\"750\":169,\"751\":169,\"752\":77,\"753\":77,\"754\":77,\"755\":291,\"756\":351,\"757\":119,\"758\":119,\"759\":214,\"760\":354,\"761\":359,\"762\":181,\"763\":181,\"764\":349,\"765\":349,\"766\":349,\"767\":349,\"768\":100,\"769\":362,\"770\":362,\"771\":136,\"772\":136,\"773\":177,\"774\":385,\"775\":85,\"776\":85,\"777\":398,\"778\":398,\"779\":398,\"780\":40,\"781\":341,\"782\":341,\"783\":341,\"784\":341,\"785\":3,\"786\":3,\"787\":3,\"788\":312,\"789\":306,\"790\":306,\"791\":306,\"792\":69,\"793\":69,\"794\":69,\"795\":209,\"796\":388,\"797\":254,\"798\":335,\"799\":335,\"800\":335,\"801\":335,\"802\":340,\"803\":340,\"804\":112,\"805\":112,\"806\":225,\"807\":33,\"808\":33,\"809\":33,\"810\":74,\"811\":74,\"812\":74,\"813\":48,\"814\":48,\"815\":48,\"816\":48,\"817\":127,\"818\":127,\"819\":114,\"820\":114,\"821\":114,\"822\":114,\"823\":97,\"824\":97,\"825\":97,\"826\":97,\"827\":226,\"828\":215,\"829\":215,\"830\":58,\"831\":124,\"832\":124,\"833\":107,\"834\":107,\"835\":107,\"836\":107,\"837\":84,\"838\":18,\"839\":18,\"840\":18,\"841\":231,\"842\":99,\"843\":99,\"844\":99,\"845\":99,\"846\":323,\"847\":323,\"848\":323,\"849\":323,\"850\":323,\"851\":383,\"852\":366,\"853\":366},\"id_curso\":{\"0\":8,\"1\":6,\"2\":7,\"3\":18,\"4\":11,\"5\":14,\"6\":6,\"7\":9,\"8\":17,\"9\":8,\"10\":17,\"11\":5,\"12\":15,\"13\":3,\"14\":17,\"15\":15,\"16\":20,\"17\":2,\"18\":3,\"19\":2,\"20\":1,\"21\":18,\"22\":12,\"23\":13,\"24\":9,\"25\":2,\"26\":9,\"27\":4,\"28\":20,\"29\":18,\"30\":8,\"31\":1,\"32\":1,\"33\":11,\"34\":17,\"35\":8,\"36\":14,\"37\":18,\"38\":13,\"39\":1,\"40\":11,\"41\":4,\"42\":17,\"43\":9,\"44\":10,\"45\":8,\"46\":6,\"47\":4,\"48\":9,\"49\":11,\"50\":18,\"51\":9,\"52\":8,\"53\":17,\"54\":15,\"55\":3,\"56\":15,\"57\":20,\"58\":10,\"59\":10,\"60\":15,\"61\":5,\"62\":9,\"63\":8,\"64\":20,\"65\":4,\"66\":4,\"67\":10,\"68\":7,\"69\":18,\"70\":10,\"71\":15,\"72\":17,\"73\":7,\"74\":15,\"75\":9,\"76\":7,\"77\":18,\"78\":11,\"79\":10,\"80\":4,\"81\":18,\"82\":13,\"83\":20,\"84\":2,\"85\":3,\"86\":18,\"87\":10,\"88\":10,\"89\":6,\"90\":10,\"91\":10,\"92\":15,\"93\":13,\"94\":17,\"95\":17,\"96\":9,\"97\":8,\"98\":8,\"99\":20,\"100\":9,\"101\":16,\"102\":3,\"103\":9,\"104\":8,\"105\":4,\"106\":2,\"107\":7,\"108\":17,\"109\":8,\"110\":18,\"111\":11,\"112\":17,\"113\":20,\"114\":13,\"115\":8,\"116\":8,\"117\":20,\"118\":15,\"119\":10,\"120\":6,\"121\":10,\"122\":16,\"123\":20,\"124\":15,\"125\":2,\"126\":10,\"127\":17,\"128\":11,\"129\":8,\"130\":18,\"131\":11,\"132\":10,\"133\":10,\"134\":15,\"135\":10,\"136\":11,\"137\":7,\"138\":4,\"139\":17,\"140\":8,\"141\":3,\"142\":4,\"143\":9,\"144\":7,\"145\":15,\"146\":9,\"147\":11,\"148\":4,\"149\":4,\"150\":18,\"151\":18,\"152\":18,\"153\":10,\"154\":2,\"155\":8,\"156\":18,\"157\":9,\"158\":8,\"159\":8,\"160\":11,\"161\":10,\"162\":9,\"163\":9,\"164\":7,\"165\":4,\"166\":6,\"167\":2,\"168\":20,\"169\":20,\"170\":3,\"171\":2,\"172\":9,\"173\":16,\"174\":17,\"175\":1,\"176\":7,\"177\":11,\"178\":3,\"179\":20,\"180\":7,\"181\":11,\"182\":3,\"183\":8,\"184\":3,\"185\":18,\"186\":20,\"187\":11,\"188\":9,\"189\":8,\"190\":20,\"191\":12,\"192\":9,\"193\":17,\"194\":11,\"195\":6,\"196\":6,\"197\":7,\"198\":1,\"199\":7,\"200\":12,\"201\":16,\"202\":3,\"203\":20,\"204\":10,\"205\":2,\"206\":20,\"207\":7,\"208\":8,\"209\":10,\"210\":8,\"211\":4,\"212\":3,\"213\":11,\"214\":2,\"215\":15,\"216\":8,\"217\":20,\"218\":2,\"219\":2,\"220\":7,\"221\":9,\"222\":17,\"223\":17,\"224\":15,\"225\":17,\"226\":15,\"227\":18,\"228\":10,\"229\":7,\"230\":12,\"231\":9,\"232\":2,\"233\":18,\"234\":17,\"235\":10,\"236\":10,\"237\":3,\"238\":3,\"239\":17,\"240\":18,\"241\":1,\"242\":17,\"243\":11,\"244\":10,\"245\":10,\"246\":15,\"247\":1,\"248\":2,\"249\":18,\"250\":20,\"251\":7,\"252\":9,\"253\":15,\"254\":14,\"255\":17,\"256\":19,\"257\":7,\"258\":11,\"259\":4,\"260\":20,\"261\":16,\"262\":4,\"263\":15,\"264\":17,\"265\":4,\"266\":10,\"267\":17,\"268\":9,\"269\":2,\"270\":8,\"271\":17,\"272\":3,\"273\":8,\"274\":18,\"275\":4,\"276\":9,\"277\":11,\"278\":4,\"279\":15,\"280\":17,\"281\":13,\"282\":18,\"283\":3,\"284\":1,\"285\":7,\"286\":18,\"287\":3,\"288\":16,\"289\":20,\"290\":11,\"291\":18,\"292\":7,\"293\":15,\"294\":17,\"295\":10,\"296\":11,\"297\":3,\"298\":7,\"299\":3,\"300\":6,\"301\":18,\"302\":2,\"303\":10,\"304\":11,\"305\":7,\"306\":17,\"307\":11,\"308\":4,\"309\":10,\"310\":2,\"311\":1,\"312\":15,\"313\":4,\"314\":20,\"315\":9,\"316\":15,\"317\":10,\"318\":9,\"319\":14,\"320\":12,\"321\":18,\"322\":3,\"323\":10,\"324\":11,\"325\":14,\"326\":12,\"327\":9,\"328\":2,\"329\":15,\"330\":2,\"331\":10,\"332\":15,\"333\":7,\"334\":2,\"335\":3,\"336\":4,\"337\":14,\"338\":14,\"339\":20,\"340\":8,\"341\":3,\"342\":4,\"343\":2,\"344\":17,\"345\":3,\"346\":18,\"347\":2,\"348\":17,\"349\":4,\"350\":2,\"351\":15,\"352\":1,\"353\":8,\"354\":2,\"355\":3,\"356\":3,\"357\":15,\"358\":20,\"359\":7,\"360\":9,\"361\":9,\"362\":7,\"363\":15,\"364\":7,\"365\":11,\"366\":3,\"367\":18,\"368\":15,\"369\":11,\"370\":12,\"371\":6,\"372\":18,\"373\":3,\"374\":18,\"375\":12,\"376\":20,\"377\":7,\"378\":20,\"379\":13,\"380\":1,\"381\":3,\"382\":11,\"383\":3,\"384\":16,\"385\":15,\"386\":4,\"387\":13,\"388\":11,\"389\":7,\"390\":15,\"391\":7,\"392\":18,\"393\":9,\"394\":10,\"395\":14,\"396\":18,\"397\":10,\"398\":14,\"399\":11,\"400\":2,\"401\":13,\"402\":2,\"403\":10,\"404\":3,\"405\":11,\"406\":15,\"407\":17,\"408\":11,\"409\":20,\"410\":9,\"411\":1,\"412\":17,\"413\":10,\"414\":11,\"415\":18,\"416\":7,\"417\":8,\"418\":3,\"419\":15,\"420\":6,\"421\":18,\"422\":12,\"423\":18,\"424\":2,\"425\":20,\"426\":9,\"427\":11,\"428\":13,\"429\":10,\"430\":11,\"431\":9,\"432\":4,\"433\":20,\"434\":17,\"435\":11,\"436\":2,\"437\":18,\"438\":3,\"439\":17,\"440\":2,\"441\":16,\"442\":18,\"443\":10,\"444\":11,\"445\":17,\"446\":20,\"447\":1,\"448\":3,\"449\":18,\"450\":15,\"451\":7,\"452\":10,\"453\":3,\"454\":2,\"455\":15,\"456\":15,\"457\":15,\"458\":18,\"459\":7,\"460\":9,\"461\":7,\"462\":12,\"463\":13,\"464\":9,\"465\":20,\"466\":10,\"467\":19,\"468\":15,\"469\":20,\"470\":16,\"471\":6,\"472\":15,\"473\":6,\"474\":7,\"475\":6,\"476\":10,\"477\":10,\"478\":18,\"479\":11,\"480\":9,\"481\":12,\"482\":8,\"483\":17,\"484\":3,\"485\":6,\"486\":3,\"487\":18,\"488\":7,\"489\":20,\"490\":4,\"491\":8,\"492\":18,\"493\":13,\"494\":10,\"495\":4,\"496\":17,\"497\":8,\"498\":16,\"499\":11,\"500\":12,\"501\":8,\"502\":2,\"503\":11,\"504\":16,\"505\":11,\"506\":11,\"507\":15,\"508\":2,\"509\":6,\"510\":12,\"511\":4,\"512\":7,\"513\":2,\"514\":6,\"515\":1,\"516\":17,\"517\":11,\"518\":11,\"519\":1,\"520\":18,\"521\":1,\"522\":17,\"523\":6,\"524\":17,\"525\":3,\"526\":11,\"527\":2,\"528\":11,\"529\":3,\"530\":17,\"531\":6,\"532\":3,\"533\":2,\"534\":11,\"535\":14,\"536\":18,\"537\":2,\"538\":9,\"539\":4,\"540\":10,\"541\":6,\"542\":9,\"543\":9,\"544\":15,\"545\":16,\"546\":9,\"547\":7,\"548\":17,\"549\":18,\"550\":11,\"551\":7,\"552\":17,\"553\":9,\"554\":19,\"555\":7,\"556\":20,\"557\":9,\"558\":16,\"559\":6,\"560\":12,\"561\":11,\"562\":9,\"563\":15,\"564\":17,\"565\":15,\"566\":17,\"567\":16,\"568\":4,\"569\":17,\"570\":4,\"571\":3,\"572\":18,\"573\":11,\"574\":4,\"575\":13,\"576\":8,\"577\":4,\"578\":17,\"579\":3,\"580\":20,\"581\":17,\"582\":15,\"583\":6,\"584\":16,\"585\":1,\"586\":11,\"587\":8,\"588\":17,\"589\":16,\"590\":10,\"591\":10,\"592\":2,\"593\":6,\"594\":15,\"595\":2,\"596\":17,\"597\":20,\"598\":3,\"599\":10,\"600\":11,\"601\":17,\"602\":4,\"603\":9,\"604\":17,\"605\":11,\"606\":4,\"607\":18,\"608\":20,\"609\":15,\"610\":20,\"611\":20,\"612\":3,\"613\":9,\"614\":11,\"615\":15,\"616\":11,\"617\":13,\"618\":3,\"619\":9,\"620\":1,\"621\":14,\"622\":4,\"623\":9,\"624\":10,\"625\":14,\"626\":16,\"627\":15,\"628\":11,\"629\":11,\"630\":18,\"631\":18,\"632\":2,\"633\":7,\"634\":20,\"635\":11,\"636\":3,\"637\":2,\"638\":3,\"639\":17,\"640\":6,\"641\":7,\"642\":3,\"643\":11,\"644\":11,\"645\":7,\"646\":14,\"647\":17,\"648\":20,\"649\":10,\"650\":9,\"651\":7,\"652\":17,\"653\":20,\"654\":11,\"655\":13,\"656\":15,\"657\":9,\"658\":6,\"659\":7,\"660\":12,\"661\":13,\"662\":10,\"663\":2,\"664\":18,\"665\":7,\"666\":11,\"667\":15,\"668\":4,\"669\":10,\"670\":1,\"671\":2,\"672\":7,\"673\":14,\"674\":18,\"675\":9,\"676\":2,\"677\":7,\"678\":20,\"679\":3,\"680\":16,\"681\":16,\"682\":11,\"683\":20,\"684\":13,\"685\":20,\"686\":17,\"687\":17,\"688\":20,\"689\":12,\"690\":8,\"691\":3,\"692\":15,\"693\":11,\"694\":9,\"695\":20,\"696\":19,\"697\":9,\"698\":20,\"699\":9,\"700\":6,\"701\":12,\"702\":3,\"703\":4,\"704\":17,\"705\":17,\"706\":7,\"707\":16,\"708\":20,\"709\":20,\"710\":10,\"711\":18,\"712\":11,\"713\":11,\"714\":6,\"715\":9,\"716\":6,\"717\":16,\"718\":13,\"719\":17,\"720\":12,\"721\":7,\"722\":20,\"723\":14,\"724\":10,\"725\":17,\"726\":7,\"727\":17,\"728\":8,\"729\":2,\"730\":17,\"731\":4,\"732\":13,\"733\":7,\"734\":15,\"735\":3,\"736\":12,\"737\":4,\"738\":10,\"739\":18,\"740\":10,\"741\":17,\"742\":4,\"743\":14,\"744\":4,\"745\":17,\"746\":15,\"747\":9,\"748\":10,\"749\":4,\"750\":13,\"751\":19,\"752\":11,\"753\":8,\"754\":9,\"755\":6,\"756\":10,\"757\":10,\"758\":20,\"759\":9,\"760\":18,\"761\":4,\"762\":11,\"763\":11,\"764\":11,\"765\":10,\"766\":16,\"767\":4,\"768\":2,\"769\":4,\"770\":11,\"771\":7,\"772\":15,\"773\":2,\"774\":18,\"775\":20,\"776\":17,\"777\":18,\"778\":9,\"779\":4,\"780\":5,\"781\":10,\"782\":14,\"783\":11,\"784\":3,\"785\":15,\"786\":17,\"787\":2,\"788\":10,\"789\":10,\"790\":2,\"791\":4,\"792\":17,\"793\":11,\"794\":6,\"795\":10,\"796\":18,\"797\":3,\"798\":20,\"799\":4,\"800\":7,\"801\":4,\"802\":10,\"803\":8,\"804\":20,\"805\":1,\"806\":8,\"807\":11,\"808\":8,\"809\":10,\"810\":9,\"811\":3,\"812\":13,\"813\":17,\"814\":11,\"815\":4,\"816\":10,\"817\":1,\"818\":18,\"819\":7,\"820\":18,\"821\":11,\"822\":20,\"823\":18,\"824\":1,\"825\":1,\"826\":16,\"827\":11,\"828\":16,\"829\":11,\"830\":6,\"831\":17,\"832\":2,\"833\":17,\"834\":14,\"835\":15,\"836\":2,\"837\":6,\"838\":10,\"839\":10,\"840\":2,\"841\":8,\"842\":20,\"843\":8,\"844\":12,\"845\":15,\"846\":12,\"847\":7,\"848\":11,\"849\":15,\"850\":9,\"851\":7,\"852\":7,\"853\":19}}'"
            ]
          },
          "metadata": {
            "tags": []
          },
          "execution_count": 50
        }
      ]
    },
    {
      "cell_type": "code",
      "metadata": {
        "id": "OCtfb770A-GE"
      },
      "source": [
        "#html\n",
        "matriculas_html = matriculas_curso.to_html()"
      ],
      "execution_count": null,
      "outputs": []
    },
    {
      "cell_type": "code",
      "metadata": {
        "id": "uJd3KOKkBIfA",
        "colab": {
          "base_uri": "https://localhost:8080/"
        },
        "outputId": "8f29d35c-84c2-4d4c-bddb-13ab0e69f764"
      },
      "source": [
        "print(matriculas_html)"
      ],
      "execution_count": null,
      "outputs": [
        {
          "output_type": "stream",
          "text": [
            "<table border=\"1\" class=\"dataframe\">\n",
            "  <thead>\n",
            "    <tr style=\"text-align: right;\">\n",
            "      <th></th>\n",
            "      <th>ID_aluno</th>\n",
            "      <th>Nome_do_curso</th>\n",
            "    </tr>\n",
            "    <tr>\n",
            "      <th>id_curso</th>\n",
            "      <th></th>\n",
            "      <th></th>\n",
            "    </tr>\n",
            "  </thead>\n",
            "  <tbody>\n",
            "    <tr>\n",
            "      <th>1</th>\n",
            "      <td>24</td>\n",
            "      <td>Lógica de programação</td>\n",
            "    </tr>\n",
            "    <tr>\n",
            "      <th>2</th>\n",
            "      <td>52</td>\n",
            "      <td>Java para Web</td>\n",
            "    </tr>\n",
            "    <tr>\n",
            "      <th>3</th>\n",
            "      <td>54</td>\n",
            "      <td>C# para Web</td>\n",
            "    </tr>\n",
            "    <tr>\n",
            "      <th>4</th>\n",
            "      <td>51</td>\n",
            "      <td>Ruby on Rails</td>\n",
            "    </tr>\n",
            "    <tr>\n",
            "      <th>5</th>\n",
            "      <td>3</td>\n",
            "      <td>Cursos de Python</td>\n",
            "    </tr>\n",
            "    <tr>\n",
            "      <th>6</th>\n",
            "      <td>32</td>\n",
            "      <td>PHP com MySql</td>\n",
            "    </tr>\n",
            "    <tr>\n",
            "      <th>7</th>\n",
            "      <td>56</td>\n",
            "      <td>.NET para web</td>\n",
            "    </tr>\n",
            "    <tr>\n",
            "      <th>8</th>\n",
            "      <td>42</td>\n",
            "      <td>Novas integrações com Java</td>\n",
            "    </tr>\n",
            "    <tr>\n",
            "      <th>9</th>\n",
            "      <td>60</td>\n",
            "      <td>TDD com Java</td>\n",
            "    </tr>\n",
            "    <tr>\n",
            "      <th>10</th>\n",
            "      <td>68</td>\n",
            "      <td>Código limpo com C#</td>\n",
            "    </tr>\n",
            "    <tr>\n",
            "      <th>11</th>\n",
            "      <td>78</td>\n",
            "      <td>Preparatório para certificação Java</td>\n",
            "    </tr>\n",
            "    <tr>\n",
            "      <th>12</th>\n",
            "      <td>21</td>\n",
            "      <td>Hardware básico</td>\n",
            "    </tr>\n",
            "    <tr>\n",
            "      <th>13</th>\n",
            "      <td>21</td>\n",
            "      <td>Persistência com .NET</td>\n",
            "    </tr>\n",
            "    <tr>\n",
            "      <th>14</th>\n",
            "      <td>18</td>\n",
            "      <td>Desenvolvendo jogos</td>\n",
            "    </tr>\n",
            "    <tr>\n",
            "      <th>15</th>\n",
            "      <td>57</td>\n",
            "      <td>Análise de dados</td>\n",
            "    </tr>\n",
            "    <tr>\n",
            "      <th>16</th>\n",
            "      <td>24</td>\n",
            "      <td>Estatística básica</td>\n",
            "    </tr>\n",
            "    <tr>\n",
            "      <th>17</th>\n",
            "      <td>71</td>\n",
            "      <td>Internet das coisas</td>\n",
            "    </tr>\n",
            "    <tr>\n",
            "      <th>18</th>\n",
            "      <td>60</td>\n",
            "      <td>Programação funcional</td>\n",
            "    </tr>\n",
            "    <tr>\n",
            "      <th>19</th>\n",
            "      <td>6</td>\n",
            "      <td>Boas práticas em Java</td>\n",
            "    </tr>\n",
            "    <tr>\n",
            "      <th>20</th>\n",
            "      <td>56</td>\n",
            "      <td>Orientação objetos com Java</td>\n",
            "    </tr>\n",
            "  </tbody>\n",
            "</table>\n"
          ],
          "name": "stdout"
        }
      ]
    },
    {
      "cell_type": "code",
      "metadata": {
        "id": "Tybke-pYBn4h"
      },
      "source": [
        ""
      ],
      "execution_count": null,
      "outputs": []
    },
    {
      "cell_type": "markdown",
      "metadata": {
        "id": "KAZfuvYeCSAL"
      },
      "source": [
        "#**Criando o Banco de dados SQL**"
      ]
    },
    {
      "cell_type": "code",
      "metadata": {
        "id": "Cgg7XB8cCUd_",
        "colab": {
          "base_uri": "https://localhost:8080/"
        },
        "outputId": "57385dab-0756-4a00-d07b-ba2f351602e6"
      },
      "source": [
        "!pip install sqlalchemy"
      ],
      "execution_count": null,
      "outputs": [
        {
          "output_type": "stream",
          "text": [
            "Requirement already satisfied: sqlalchemy in /usr/local/lib/python3.6/dist-packages (1.3.20)\n"
          ],
          "name": "stdout"
        }
      ]
    },
    {
      "cell_type": "code",
      "metadata": {
        "id": "mDtbWmeWCk1A"
      },
      "source": [
        "from sqlalchemy import create_engine, MetaData, table"
      ],
      "execution_count": null,
      "outputs": []
    },
    {
      "cell_type": "code",
      "metadata": {
        "id": "O5af4_gnCt1d"
      },
      "source": [
        "engine = create_engine('sqlite:///:memory:')"
      ],
      "execution_count": null,
      "outputs": []
    },
    {
      "cell_type": "code",
      "metadata": {
        "id": "Vzc75lVTC-NU",
        "colab": {
          "base_uri": "https://localhost:8080/"
        },
        "outputId": "b5a3fb62-751c-4af4-cd3f-e15b0fa85b1b"
      },
      "source": [
        "engine"
      ],
      "execution_count": null,
      "outputs": [
        {
          "output_type": "execute_result",
          "data": {
            "text/plain": [
              "Engine(sqlite:///:memory:)"
            ]
          },
          "metadata": {
            "tags": []
          },
          "execution_count": 56
        }
      ]
    },
    {
      "cell_type": "code",
      "metadata": {
        "id": "RVvf1BEpC_QY",
        "colab": {
          "base_uri": "https://localhost:8080/"
        },
        "outputId": "63ef17df-795c-4b22-e246-cea9e8a1e1f4"
      },
      "source": [
        "type(engine)"
      ],
      "execution_count": null,
      "outputs": [
        {
          "output_type": "execute_result",
          "data": {
            "text/plain": [
              "sqlalchemy.engine.base.Engine"
            ]
          },
          "metadata": {
            "tags": []
          },
          "execution_count": 57
        }
      ]
    },
    {
      "cell_type": "code",
      "metadata": {
        "id": "ATJ66U9IDCaS"
      },
      "source": [
        "matriculas_curso.to_sql('matriculas', engine )"
      ],
      "execution_count": null,
      "outputs": []
    },
    {
      "cell_type": "code",
      "metadata": {
        "id": "gzc5t7yhDH6f",
        "colab": {
          "base_uri": "https://localhost:8080/"
        },
        "outputId": "9b5911ed-564f-485d-a211-4ec311d01489"
      },
      "source": [
        "print(engine.table_names())"
      ],
      "execution_count": null,
      "outputs": [
        {
          "output_type": "stream",
          "text": [
            "['matriculas']\n"
          ],
          "name": "stdout"
        }
      ]
    },
    {
      "cell_type": "markdown",
      "metadata": {
        "id": "t8ceA2YMDhdU"
      },
      "source": [
        "#**Buscando do banco SQL**"
      ]
    },
    {
      "cell_type": "code",
      "metadata": {
        "id": "Z8xjUWj8DXW_"
      },
      "source": [
        "query = 'select * from matriculas where qntd_alunos < 20'"
      ],
      "execution_count": null,
      "outputs": []
    },
    {
      "cell_type": "code",
      "metadata": {
        "id": "IM0sXvmBD03D"
      },
      "source": [
        ""
      ],
      "execution_count": null,
      "outputs": []
    },
    {
      "cell_type": "markdown",
      "metadata": {
        "id": "vpo-SXizeMBY"
      },
      "source": [
        "#**Nomes dos alunos e alunas da próxima turma**"
      ]
    },
    {
      "cell_type": "code",
      "metadata": {
        "id": "bNVLRsjAeVkp",
        "colab": {
          "base_uri": "https://localhost:8080/"
        },
        "outputId": "89d59c44-26bc-421a-957c-8d44bfce4dee"
      },
      "source": [
        "matriculas_curso.head(20)"
      ],
      "execution_count": null,
      "outputs": [
        {
          "output_type": "execute_result",
          "data": {
            "text/html": [
              "<div>\n",
              "<style scoped>\n",
              "    .dataframe tbody tr th:only-of-type {\n",
              "        vertical-align: middle;\n",
              "    }\n",
              "\n",
              "    .dataframe tbody tr th {\n",
              "        vertical-align: top;\n",
              "    }\n",
              "\n",
              "    .dataframe thead th {\n",
              "        text-align: right;\n",
              "    }\n",
              "</style>\n",
              "<table border=\"1\" class=\"dataframe\">\n",
              "  <thead>\n",
              "    <tr style=\"text-align: right;\">\n",
              "      <th></th>\n",
              "      <th>ID_aluno</th>\n",
              "      <th>Nome_do_curso</th>\n",
              "    </tr>\n",
              "    <tr>\n",
              "      <th>id_curso</th>\n",
              "      <th></th>\n",
              "      <th></th>\n",
              "    </tr>\n",
              "  </thead>\n",
              "  <tbody>\n",
              "    <tr>\n",
              "      <th>1</th>\n",
              "      <td>24</td>\n",
              "      <td>Lógica de programação</td>\n",
              "    </tr>\n",
              "    <tr>\n",
              "      <th>2</th>\n",
              "      <td>52</td>\n",
              "      <td>Java para Web</td>\n",
              "    </tr>\n",
              "    <tr>\n",
              "      <th>3</th>\n",
              "      <td>54</td>\n",
              "      <td>C# para Web</td>\n",
              "    </tr>\n",
              "    <tr>\n",
              "      <th>4</th>\n",
              "      <td>51</td>\n",
              "      <td>Ruby on Rails</td>\n",
              "    </tr>\n",
              "    <tr>\n",
              "      <th>5</th>\n",
              "      <td>3</td>\n",
              "      <td>Cursos de Python</td>\n",
              "    </tr>\n",
              "    <tr>\n",
              "      <th>6</th>\n",
              "      <td>32</td>\n",
              "      <td>PHP com MySql</td>\n",
              "    </tr>\n",
              "    <tr>\n",
              "      <th>7</th>\n",
              "      <td>56</td>\n",
              "      <td>.NET para web</td>\n",
              "    </tr>\n",
              "    <tr>\n",
              "      <th>8</th>\n",
              "      <td>42</td>\n",
              "      <td>Novas integrações com Java</td>\n",
              "    </tr>\n",
              "    <tr>\n",
              "      <th>9</th>\n",
              "      <td>60</td>\n",
              "      <td>TDD com Java</td>\n",
              "    </tr>\n",
              "    <tr>\n",
              "      <th>10</th>\n",
              "      <td>68</td>\n",
              "      <td>Código limpo com C#</td>\n",
              "    </tr>\n",
              "    <tr>\n",
              "      <th>11</th>\n",
              "      <td>78</td>\n",
              "      <td>Preparatório para certificação Java</td>\n",
              "    </tr>\n",
              "    <tr>\n",
              "      <th>12</th>\n",
              "      <td>21</td>\n",
              "      <td>Hardware básico</td>\n",
              "    </tr>\n",
              "    <tr>\n",
              "      <th>13</th>\n",
              "      <td>21</td>\n",
              "      <td>Persistência com .NET</td>\n",
              "    </tr>\n",
              "    <tr>\n",
              "      <th>14</th>\n",
              "      <td>18</td>\n",
              "      <td>Desenvolvendo jogos</td>\n",
              "    </tr>\n",
              "    <tr>\n",
              "      <th>15</th>\n",
              "      <td>57</td>\n",
              "      <td>Análise de dados</td>\n",
              "    </tr>\n",
              "    <tr>\n",
              "      <th>16</th>\n",
              "      <td>24</td>\n",
              "      <td>Estatística básica</td>\n",
              "    </tr>\n",
              "    <tr>\n",
              "      <th>17</th>\n",
              "      <td>71</td>\n",
              "      <td>Internet das coisas</td>\n",
              "    </tr>\n",
              "    <tr>\n",
              "      <th>18</th>\n",
              "      <td>60</td>\n",
              "      <td>Programação funcional</td>\n",
              "    </tr>\n",
              "    <tr>\n",
              "      <th>19</th>\n",
              "      <td>6</td>\n",
              "      <td>Boas práticas em Java</td>\n",
              "    </tr>\n",
              "    <tr>\n",
              "      <th>20</th>\n",
              "      <td>56</td>\n",
              "      <td>Orientação objetos com Java</td>\n",
              "    </tr>\n",
              "  </tbody>\n",
              "</table>\n",
              "</div>"
            ],
            "text/plain": [
              "          ID_aluno                        Nome_do_curso\n",
              "id_curso                                               \n",
              "1               24                Lógica de programação\n",
              "2               52                        Java para Web\n",
              "3               54                          C# para Web\n",
              "4               51                        Ruby on Rails\n",
              "5                3                     Cursos de Python\n",
              "6               32                        PHP com MySql\n",
              "7               56                        .NET para web\n",
              "8               42           Novas integrações com Java\n",
              "9               60                         TDD com Java\n",
              "10              68                  Código limpo com C#\n",
              "11              78  Preparatório para certificação Java\n",
              "12              21                      Hardware básico\n",
              "13              21                Persistência com .NET\n",
              "14              18                  Desenvolvendo jogos\n",
              "15              57                     Análise de dados\n",
              "16              24                   Estatística básica\n",
              "17              71                  Internet das coisas\n",
              "18              60                Programação funcional\n",
              "19               6                Boas práticas em Java\n",
              "20              56          Orientação objetos com Java"
            ]
          },
          "metadata": {
            "tags": []
          },
          "execution_count": 61
        }
      ]
    },
    {
      "cell_type": "code",
      "metadata": {
        "id": "tsS_W6bNeYuY",
        "colab": {
          "base_uri": "https://localhost:8080/"
        },
        "outputId": "1337799a-9732-4ddd-cf68-b632d08a4b6a"
      },
      "source": [
        "matriculas"
      ],
      "execution_count": null,
      "outputs": [
        {
          "output_type": "execute_result",
          "data": {
            "text/html": [
              "<div>\n",
              "<style scoped>\n",
              "    .dataframe tbody tr th:only-of-type {\n",
              "        vertical-align: middle;\n",
              "    }\n",
              "\n",
              "    .dataframe tbody tr th {\n",
              "        vertical-align: top;\n",
              "    }\n",
              "\n",
              "    .dataframe thead th {\n",
              "        text-align: right;\n",
              "    }\n",
              "</style>\n",
              "<table border=\"1\" class=\"dataframe\">\n",
              "  <thead>\n",
              "    <tr style=\"text-align: right;\">\n",
              "      <th></th>\n",
              "      <th>ID_aluno</th>\n",
              "      <th>id_curso</th>\n",
              "    </tr>\n",
              "  </thead>\n",
              "  <tbody>\n",
              "    <tr>\n",
              "      <th>0</th>\n",
              "      <td>235</td>\n",
              "      <td>8</td>\n",
              "    </tr>\n",
              "    <tr>\n",
              "      <th>1</th>\n",
              "      <td>43</td>\n",
              "      <td>6</td>\n",
              "    </tr>\n",
              "    <tr>\n",
              "      <th>2</th>\n",
              "      <td>304</td>\n",
              "      <td>7</td>\n",
              "    </tr>\n",
              "    <tr>\n",
              "      <th>3</th>\n",
              "      <td>304</td>\n",
              "      <td>18</td>\n",
              "    </tr>\n",
              "    <tr>\n",
              "      <th>4</th>\n",
              "      <td>304</td>\n",
              "      <td>11</td>\n",
              "    </tr>\n",
              "    <tr>\n",
              "      <th>...</th>\n",
              "      <td>...</td>\n",
              "      <td>...</td>\n",
              "    </tr>\n",
              "    <tr>\n",
              "      <th>849</th>\n",
              "      <td>323</td>\n",
              "      <td>15</td>\n",
              "    </tr>\n",
              "    <tr>\n",
              "      <th>850</th>\n",
              "      <td>323</td>\n",
              "      <td>9</td>\n",
              "    </tr>\n",
              "    <tr>\n",
              "      <th>851</th>\n",
              "      <td>383</td>\n",
              "      <td>7</td>\n",
              "    </tr>\n",
              "    <tr>\n",
              "      <th>852</th>\n",
              "      <td>366</td>\n",
              "      <td>7</td>\n",
              "    </tr>\n",
              "    <tr>\n",
              "      <th>853</th>\n",
              "      <td>366</td>\n",
              "      <td>19</td>\n",
              "    </tr>\n",
              "  </tbody>\n",
              "</table>\n",
              "<p>854 rows × 2 columns</p>\n",
              "</div>"
            ],
            "text/plain": [
              "     ID_aluno  id_curso\n",
              "0         235         8\n",
              "1          43         6\n",
              "2         304         7\n",
              "3         304        18\n",
              "4         304        11\n",
              "..        ...       ...\n",
              "849       323        15\n",
              "850       323         9\n",
              "851       383         7\n",
              "852       366         7\n",
              "853       366        19\n",
              "\n",
              "[854 rows x 2 columns]"
            ]
          },
          "metadata": {
            "tags": []
          },
          "execution_count": 62
        }
      ]
    },
    {
      "cell_type": "code",
      "metadata": {
        "id": "9EPqIfaGeolo",
        "colab": {
          "base_uri": "https://localhost:8080/"
        },
        "outputId": "c2938e3e-ae8d-43b9-af0b-85af727b91c1"
      },
      "source": [
        "id_curso = 16 \n",
        "proxima_turma = matriculas.query(\"id_curso == {}\".format(id_curso))\n",
        "proxima_turma"
      ],
      "execution_count": null,
      "outputs": [
        {
          "output_type": "execute_result",
          "data": {
            "text/html": [
              "<div>\n",
              "<style scoped>\n",
              "    .dataframe tbody tr th:only-of-type {\n",
              "        vertical-align: middle;\n",
              "    }\n",
              "\n",
              "    .dataframe tbody tr th {\n",
              "        vertical-align: top;\n",
              "    }\n",
              "\n",
              "    .dataframe thead th {\n",
              "        text-align: right;\n",
              "    }\n",
              "</style>\n",
              "<table border=\"1\" class=\"dataframe\">\n",
              "  <thead>\n",
              "    <tr style=\"text-align: right;\">\n",
              "      <th></th>\n",
              "      <th>ID_aluno</th>\n",
              "      <th>id_curso</th>\n",
              "    </tr>\n",
              "  </thead>\n",
              "  <tbody>\n",
              "    <tr>\n",
              "      <th>101</th>\n",
              "      <td>296</td>\n",
              "      <td>16</td>\n",
              "    </tr>\n",
              "    <tr>\n",
              "      <th>122</th>\n",
              "      <td>27</td>\n",
              "      <td>16</td>\n",
              "    </tr>\n",
              "    <tr>\n",
              "      <th>173</th>\n",
              "      <td>246</td>\n",
              "      <td>16</td>\n",
              "    </tr>\n",
              "    <tr>\n",
              "      <th>201</th>\n",
              "      <td>96</td>\n",
              "      <td>16</td>\n",
              "    </tr>\n",
              "    <tr>\n",
              "      <th>261</th>\n",
              "      <td>285</td>\n",
              "      <td>16</td>\n",
              "    </tr>\n",
              "    <tr>\n",
              "      <th>288</th>\n",
              "      <td>135</td>\n",
              "      <td>16</td>\n",
              "    </tr>\n",
              "    <tr>\n",
              "      <th>384</th>\n",
              "      <td>353</td>\n",
              "      <td>16</td>\n",
              "    </tr>\n",
              "    <tr>\n",
              "      <th>441</th>\n",
              "      <td>67</td>\n",
              "      <td>16</td>\n",
              "    </tr>\n",
              "    <tr>\n",
              "      <th>470</th>\n",
              "      <td>311</td>\n",
              "      <td>16</td>\n",
              "    </tr>\n",
              "    <tr>\n",
              "      <th>498</th>\n",
              "      <td>336</td>\n",
              "      <td>16</td>\n",
              "    </tr>\n",
              "    <tr>\n",
              "      <th>504</th>\n",
              "      <td>152</td>\n",
              "      <td>16</td>\n",
              "    </tr>\n",
              "    <tr>\n",
              "      <th>545</th>\n",
              "      <td>345</td>\n",
              "      <td>16</td>\n",
              "    </tr>\n",
              "    <tr>\n",
              "      <th>558</th>\n",
              "      <td>290</td>\n",
              "      <td>16</td>\n",
              "    </tr>\n",
              "    <tr>\n",
              "      <th>567</th>\n",
              "      <td>170</td>\n",
              "      <td>16</td>\n",
              "    </tr>\n",
              "    <tr>\n",
              "      <th>584</th>\n",
              "      <td>360</td>\n",
              "      <td>16</td>\n",
              "    </tr>\n",
              "    <tr>\n",
              "      <th>589</th>\n",
              "      <td>373</td>\n",
              "      <td>16</td>\n",
              "    </tr>\n",
              "    <tr>\n",
              "      <th>626</th>\n",
              "      <td>110</td>\n",
              "      <td>16</td>\n",
              "    </tr>\n",
              "    <tr>\n",
              "      <th>680</th>\n",
              "      <td>4</td>\n",
              "      <td>16</td>\n",
              "    </tr>\n",
              "    <tr>\n",
              "      <th>681</th>\n",
              "      <td>57</td>\n",
              "      <td>16</td>\n",
              "    </tr>\n",
              "    <tr>\n",
              "      <th>707</th>\n",
              "      <td>130</td>\n",
              "      <td>16</td>\n",
              "    </tr>\n",
              "    <tr>\n",
              "      <th>717</th>\n",
              "      <td>155</td>\n",
              "      <td>16</td>\n",
              "    </tr>\n",
              "    <tr>\n",
              "      <th>766</th>\n",
              "      <td>349</td>\n",
              "      <td>16</td>\n",
              "    </tr>\n",
              "    <tr>\n",
              "      <th>826</th>\n",
              "      <td>97</td>\n",
              "      <td>16</td>\n",
              "    </tr>\n",
              "    <tr>\n",
              "      <th>828</th>\n",
              "      <td>215</td>\n",
              "      <td>16</td>\n",
              "    </tr>\n",
              "  </tbody>\n",
              "</table>\n",
              "</div>"
            ],
            "text/plain": [
              "     ID_aluno  id_curso\n",
              "101       296        16\n",
              "122        27        16\n",
              "173       246        16\n",
              "201        96        16\n",
              "261       285        16\n",
              "288       135        16\n",
              "384       353        16\n",
              "441        67        16\n",
              "470       311        16\n",
              "498       336        16\n",
              "504       152        16\n",
              "545       345        16\n",
              "558       290        16\n",
              "567       170        16\n",
              "584       360        16\n",
              "589       373        16\n",
              "626       110        16\n",
              "680         4        16\n",
              "681        57        16\n",
              "707       130        16\n",
              "717       155        16\n",
              "766       349        16\n",
              "826        97        16\n",
              "828       215        16"
            ]
          },
          "metadata": {
            "tags": []
          },
          "execution_count": 63
        }
      ]
    },
    {
      "cell_type": "code",
      "metadata": {
        "id": "sA91CymbgzSh",
        "colab": {
          "base_uri": "https://localhost:8080/"
        },
        "outputId": "40f8af98-2aa9-4122-c981-f6f58b21f28e"
      },
      "source": [
        "nomes.sample()"
      ],
      "execution_count": null,
      "outputs": [
        {
          "output_type": "execute_result",
          "data": {
            "text/html": [
              "<div>\n",
              "<style scoped>\n",
              "    .dataframe tbody tr th:only-of-type {\n",
              "        vertical-align: middle;\n",
              "    }\n",
              "\n",
              "    .dataframe tbody tr th {\n",
              "        vertical-align: top;\n",
              "    }\n",
              "\n",
              "    .dataframe thead th {\n",
              "        text-align: right;\n",
              "    }\n",
              "</style>\n",
              "<table border=\"1\" class=\"dataframe\">\n",
              "  <thead>\n",
              "    <tr style=\"text-align: right;\">\n",
              "      <th></th>\n",
              "      <th>nome</th>\n",
              "      <th>ID_aluno</th>\n",
              "      <th>Domínio</th>\n",
              "      <th>email</th>\n",
              "      <th>matriculas</th>\n",
              "    </tr>\n",
              "  </thead>\n",
              "  <tbody>\n",
              "    <tr>\n",
              "      <th>9</th>\n",
              "      <td>ALINE</td>\n",
              "      <td>92</td>\n",
              "      <td>@dominiodoemail.com.br</td>\n",
              "      <td>aline@dominiodoemail.com.br</td>\n",
              "      <td>1</td>\n",
              "    </tr>\n",
              "  </tbody>\n",
              "</table>\n",
              "</div>"
            ],
            "text/plain": [
              "    nome  ID_aluno  ...                        email matriculas\n",
              "9  ALINE        92  ...  aline@dominiodoemail.com.br          1\n",
              "\n",
              "[1 rows x 5 columns]"
            ]
          },
          "metadata": {
            "tags": []
          },
          "execution_count": 64
        }
      ]
    },
    {
      "cell_type": "code",
      "metadata": {
        "id": "jaXwCpCLfSzG",
        "colab": {
          "base_uri": "https://localhost:8080/"
        },
        "outputId": "92c1304b-41da-46b0-93de-982152047db5"
      },
      "source": [
        "nomes.columns = ['nomes','id_aluno', 'dominio', 'email', 'matriculas']\n",
        "nomes"
      ],
      "execution_count": null,
      "outputs": [
        {
          "output_type": "execute_result",
          "data": {
            "text/html": [
              "<div>\n",
              "<style scoped>\n",
              "    .dataframe tbody tr th:only-of-type {\n",
              "        vertical-align: middle;\n",
              "    }\n",
              "\n",
              "    .dataframe tbody tr th {\n",
              "        vertical-align: top;\n",
              "    }\n",
              "\n",
              "    .dataframe thead th {\n",
              "        text-align: right;\n",
              "    }\n",
              "</style>\n",
              "<table border=\"1\" class=\"dataframe\">\n",
              "  <thead>\n",
              "    <tr style=\"text-align: right;\">\n",
              "      <th></th>\n",
              "      <th>nomes</th>\n",
              "      <th>id_aluno</th>\n",
              "      <th>dominio</th>\n",
              "      <th>email</th>\n",
              "      <th>matriculas</th>\n",
              "    </tr>\n",
              "  </thead>\n",
              "  <tbody>\n",
              "    <tr>\n",
              "      <th>0</th>\n",
              "      <td>MARIA</td>\n",
              "      <td>235</td>\n",
              "      <td>@dominiodoemail.com.br</td>\n",
              "      <td>maria@dominiodoemail.com.br</td>\n",
              "      <td>1</td>\n",
              "    </tr>\n",
              "    <tr>\n",
              "      <th>1</th>\n",
              "      <td>ANA</td>\n",
              "      <td>43</td>\n",
              "      <td>@servicodoemail.com</td>\n",
              "      <td>ana@servicodoemail.com</td>\n",
              "      <td>1</td>\n",
              "    </tr>\n",
              "    <tr>\n",
              "      <th>2</th>\n",
              "      <td>FRANCISCA</td>\n",
              "      <td>304</td>\n",
              "      <td>@servicodoemail.com</td>\n",
              "      <td>francisca@servicodoemail.com</td>\n",
              "      <td>5</td>\n",
              "    </tr>\n",
              "    <tr>\n",
              "      <th>3</th>\n",
              "      <td>ANTONIA</td>\n",
              "      <td>156</td>\n",
              "      <td>@dominiodoemail.com.br</td>\n",
              "      <td>antonia@dominiodoemail.com.br</td>\n",
              "      <td>5</td>\n",
              "    </tr>\n",
              "    <tr>\n",
              "      <th>4</th>\n",
              "      <td>ADRIANA</td>\n",
              "      <td>343</td>\n",
              "      <td>@servicodoemail.com</td>\n",
              "      <td>adriana@servicodoemail.com</td>\n",
              "      <td>1</td>\n",
              "    </tr>\n",
              "    <tr>\n",
              "      <th>...</th>\n",
              "      <td>...</td>\n",
              "      <td>...</td>\n",
              "      <td>...</td>\n",
              "      <td>...</td>\n",
              "      <td>...</td>\n",
              "    </tr>\n",
              "    <tr>\n",
              "      <th>195</th>\n",
              "      <td>WALTER</td>\n",
              "      <td>231</td>\n",
              "      <td>@dominiodoemail.com.br</td>\n",
              "      <td>walter@dominiodoemail.com.br</td>\n",
              "      <td>1</td>\n",
              "    </tr>\n",
              "    <tr>\n",
              "      <th>196</th>\n",
              "      <td>ARLINDO</td>\n",
              "      <td>99</td>\n",
              "      <td>@servicodoemail.com</td>\n",
              "      <td>arlindo@servicodoemail.com</td>\n",
              "      <td>4</td>\n",
              "    </tr>\n",
              "    <tr>\n",
              "      <th>197</th>\n",
              "      <td>MICHAEL</td>\n",
              "      <td>323</td>\n",
              "      <td>@dominiodoemail.com.br</td>\n",
              "      <td>michael@dominiodoemail.com.br</td>\n",
              "      <td>5</td>\n",
              "    </tr>\n",
              "    <tr>\n",
              "      <th>198</th>\n",
              "      <td>ALVARO</td>\n",
              "      <td>383</td>\n",
              "      <td>@dominiodoemail.com.br</td>\n",
              "      <td>alvaro@dominiodoemail.com.br</td>\n",
              "      <td>1</td>\n",
              "    </tr>\n",
              "    <tr>\n",
              "      <th>199</th>\n",
              "      <td>GEOVANE</td>\n",
              "      <td>366</td>\n",
              "      <td>@servicodoemail.com</td>\n",
              "      <td>geovane@servicodoemail.com</td>\n",
              "      <td>2</td>\n",
              "    </tr>\n",
              "  </tbody>\n",
              "</table>\n",
              "<p>400 rows × 5 columns</p>\n",
              "</div>"
            ],
            "text/plain": [
              "         nomes  id_aluno  ...                          email matriculas\n",
              "0        MARIA       235  ...    maria@dominiodoemail.com.br          1\n",
              "1          ANA        43  ...         ana@servicodoemail.com          1\n",
              "2    FRANCISCA       304  ...   francisca@servicodoemail.com          5\n",
              "3      ANTONIA       156  ...  antonia@dominiodoemail.com.br          5\n",
              "4      ADRIANA       343  ...     adriana@servicodoemail.com          1\n",
              "..         ...       ...  ...                            ...        ...\n",
              "195     WALTER       231  ...   walter@dominiodoemail.com.br          1\n",
              "196    ARLINDO        99  ...     arlindo@servicodoemail.com          4\n",
              "197    MICHAEL       323  ...  michael@dominiodoemail.com.br          5\n",
              "198     ALVARO       383  ...   alvaro@dominiodoemail.com.br          1\n",
              "199    GEOVANE       366  ...     geovane@servicodoemail.com          2\n",
              "\n",
              "[400 rows x 5 columns]"
            ]
          },
          "metadata": {
            "tags": []
          },
          "execution_count": 65
        }
      ]
    },
    {
      "cell_type": "code",
      "metadata": {
        "id": "oZGDzpB_fON8",
        "colab": {
          "base_uri": "https://localhost:8080/"
        },
        "outputId": "0ba63b1f-5a7f-4f3d-bf26-e4e01670aba1"
      },
      "source": [
        "proxima_turma.set_index('ID_aluno').join(nomes.set_index('id_aluno'))"
      ],
      "execution_count": null,
      "outputs": [
        {
          "output_type": "execute_result",
          "data": {
            "text/html": [
              "<div>\n",
              "<style scoped>\n",
              "    .dataframe tbody tr th:only-of-type {\n",
              "        vertical-align: middle;\n",
              "    }\n",
              "\n",
              "    .dataframe tbody tr th {\n",
              "        vertical-align: top;\n",
              "    }\n",
              "\n",
              "    .dataframe thead th {\n",
              "        text-align: right;\n",
              "    }\n",
              "</style>\n",
              "<table border=\"1\" class=\"dataframe\">\n",
              "  <thead>\n",
              "    <tr style=\"text-align: right;\">\n",
              "      <th></th>\n",
              "      <th>id_curso</th>\n",
              "      <th>nomes</th>\n",
              "      <th>dominio</th>\n",
              "      <th>email</th>\n",
              "      <th>matriculas</th>\n",
              "    </tr>\n",
              "    <tr>\n",
              "      <th>ID_aluno</th>\n",
              "      <th></th>\n",
              "      <th></th>\n",
              "      <th></th>\n",
              "      <th></th>\n",
              "      <th></th>\n",
              "    </tr>\n",
              "  </thead>\n",
              "  <tbody>\n",
              "    <tr>\n",
              "      <th>296</th>\n",
              "      <td>16</td>\n",
              "      <td>DANIELA</td>\n",
              "      <td>@servicodoemail.com</td>\n",
              "      <td>daniela@servicodoemail.com</td>\n",
              "      <td>4</td>\n",
              "    </tr>\n",
              "    <tr>\n",
              "      <th>27</th>\n",
              "      <td>16</td>\n",
              "      <td>RAFAELA</td>\n",
              "      <td>@dominiodoemail.com.br</td>\n",
              "      <td>rafaela@dominiodoemail.com.br</td>\n",
              "      <td>3</td>\n",
              "    </tr>\n",
              "    <tr>\n",
              "      <th>246</th>\n",
              "      <td>16</td>\n",
              "      <td>LAURA</td>\n",
              "      <td>@servicodoemail.com</td>\n",
              "      <td>laura@servicodoemail.com</td>\n",
              "      <td>1</td>\n",
              "    </tr>\n",
              "    <tr>\n",
              "      <th>96</th>\n",
              "      <td>16</td>\n",
              "      <td>CAROLINA</td>\n",
              "      <td>@servicodoemail.com</td>\n",
              "      <td>carolina@servicodoemail.com</td>\n",
              "      <td>2</td>\n",
              "    </tr>\n",
              "    <tr>\n",
              "      <th>285</th>\n",
              "      <td>16</td>\n",
              "      <td>VANIA</td>\n",
              "      <td>@dominiodoemail.com.br</td>\n",
              "      <td>vania@dominiodoemail.com.br</td>\n",
              "      <td>12</td>\n",
              "    </tr>\n",
              "    <tr>\n",
              "      <th>135</th>\n",
              "      <td>16</td>\n",
              "      <td>MIRIAN</td>\n",
              "      <td>@dominiodoemail.com.br</td>\n",
              "      <td>mirian@dominiodoemail.com.br</td>\n",
              "      <td>5</td>\n",
              "    </tr>\n",
              "    <tr>\n",
              "      <th>353</th>\n",
              "      <td>16</td>\n",
              "      <td>JENIFER</td>\n",
              "      <td>@servicodoemail.com</td>\n",
              "      <td>jenifer@servicodoemail.com</td>\n",
              "      <td>2</td>\n",
              "    </tr>\n",
              "    <tr>\n",
              "      <th>67</th>\n",
              "      <td>16</td>\n",
              "      <td>PEDRO</td>\n",
              "      <td>@dominiodoemail.com.br</td>\n",
              "      <td>pedro@dominiodoemail.com.br</td>\n",
              "      <td>2</td>\n",
              "    </tr>\n",
              "    <tr>\n",
              "      <th>311</th>\n",
              "      <td>16</td>\n",
              "      <td>ANDRE</td>\n",
              "      <td>@dominiodoemail.com.br</td>\n",
              "      <td>andre@dominiodoemail.com.br</td>\n",
              "      <td>1</td>\n",
              "    </tr>\n",
              "    <tr>\n",
              "      <th>336</th>\n",
              "      <td>16</td>\n",
              "      <td>RICARDO</td>\n",
              "      <td>@servicodoemail.com</td>\n",
              "      <td>ricardo@servicodoemail.com</td>\n",
              "      <td>12</td>\n",
              "    </tr>\n",
              "    <tr>\n",
              "      <th>152</th>\n",
              "      <td>16</td>\n",
              "      <td>SEBASTIAO</td>\n",
              "      <td>@servicodoemail.com</td>\n",
              "      <td>sebastiao@servicodoemail.com</td>\n",
              "      <td>4</td>\n",
              "    </tr>\n",
              "    <tr>\n",
              "      <th>345</th>\n",
              "      <td>16</td>\n",
              "      <td>IGOR</td>\n",
              "      <td>@servicodoemail.com</td>\n",
              "      <td>igor@servicodoemail.com</td>\n",
              "      <td>2</td>\n",
              "    </tr>\n",
              "    <tr>\n",
              "      <th>290</th>\n",
              "      <td>16</td>\n",
              "      <td>ROBSON</td>\n",
              "      <td>@dominiodoemail.com.br</td>\n",
              "      <td>robson@dominiodoemail.com.br</td>\n",
              "      <td>4</td>\n",
              "    </tr>\n",
              "    <tr>\n",
              "      <th>170</th>\n",
              "      <td>16</td>\n",
              "      <td>REGINALDO</td>\n",
              "      <td>@servicodoemail.com</td>\n",
              "      <td>reginaldo@servicodoemail.com</td>\n",
              "      <td>1</td>\n",
              "    </tr>\n",
              "    <tr>\n",
              "      <th>360</th>\n",
              "      <td>16</td>\n",
              "      <td>ELIAS</td>\n",
              "      <td>@dominiodoemail.com.br</td>\n",
              "      <td>elias@dominiodoemail.com.br</td>\n",
              "      <td>3</td>\n",
              "    </tr>\n",
              "    <tr>\n",
              "      <th>373</th>\n",
              "      <td>16</td>\n",
              "      <td>EMERSON</td>\n",
              "      <td>@dominiodoemail.com.br</td>\n",
              "      <td>emerson@dominiodoemail.com.br</td>\n",
              "      <td>3</td>\n",
              "    </tr>\n",
              "    <tr>\n",
              "      <th>110</th>\n",
              "      <td>16</td>\n",
              "      <td>OSVALDO</td>\n",
              "      <td>@servicodoemail.com</td>\n",
              "      <td>osvaldo@servicodoemail.com</td>\n",
              "      <td>5</td>\n",
              "    </tr>\n",
              "    <tr>\n",
              "      <th>4</th>\n",
              "      <td>16</td>\n",
              "      <td>MOISES</td>\n",
              "      <td>@servicodoemail.com</td>\n",
              "      <td>moises@servicodoemail.com</td>\n",
              "      <td>1</td>\n",
              "    </tr>\n",
              "    <tr>\n",
              "      <th>57</th>\n",
              "      <td>16</td>\n",
              "      <td>EDILSON</td>\n",
              "      <td>@servicodoemail.com</td>\n",
              "      <td>edilson@servicodoemail.com</td>\n",
              "      <td>1</td>\n",
              "    </tr>\n",
              "    <tr>\n",
              "      <th>130</th>\n",
              "      <td>16</td>\n",
              "      <td>RUAN</td>\n",
              "      <td>@servicodoemail.com</td>\n",
              "      <td>ruan@servicodoemail.com</td>\n",
              "      <td>1</td>\n",
              "    </tr>\n",
              "    <tr>\n",
              "      <th>155</th>\n",
              "      <td>16</td>\n",
              "      <td>CLEBER</td>\n",
              "      <td>@dominiodoemail.com.br</td>\n",
              "      <td>cleber@dominiodoemail.com.br</td>\n",
              "      <td>3</td>\n",
              "    </tr>\n",
              "    <tr>\n",
              "      <th>349</th>\n",
              "      <td>16</td>\n",
              "      <td>DAMIAO</td>\n",
              "      <td>@servicodoemail.com</td>\n",
              "      <td>damiao@servicodoemail.com</td>\n",
              "      <td>4</td>\n",
              "    </tr>\n",
              "    <tr>\n",
              "      <th>97</th>\n",
              "      <td>16</td>\n",
              "      <td>ELTON</td>\n",
              "      <td>@dominiodoemail.com.br</td>\n",
              "      <td>elton@dominiodoemail.com.br</td>\n",
              "      <td>4</td>\n",
              "    </tr>\n",
              "    <tr>\n",
              "      <th>215</th>\n",
              "      <td>16</td>\n",
              "      <td>WESLEI</td>\n",
              "      <td>@servicodoemail.com</td>\n",
              "      <td>weslei@servicodoemail.com</td>\n",
              "      <td>2</td>\n",
              "    </tr>\n",
              "  </tbody>\n",
              "</table>\n",
              "</div>"
            ],
            "text/plain": [
              "          id_curso      nomes  ...                          email matriculas\n",
              "ID_aluno                       ...                                          \n",
              "296             16    DANIELA  ...     daniela@servicodoemail.com          4\n",
              "27              16    RAFAELA  ...  rafaela@dominiodoemail.com.br          3\n",
              "246             16      LAURA  ...       laura@servicodoemail.com          1\n",
              "96              16   CAROLINA  ...    carolina@servicodoemail.com          2\n",
              "285             16      VANIA  ...    vania@dominiodoemail.com.br         12\n",
              "135             16     MIRIAN  ...   mirian@dominiodoemail.com.br          5\n",
              "353             16    JENIFER  ...     jenifer@servicodoemail.com          2\n",
              "67              16      PEDRO  ...    pedro@dominiodoemail.com.br          2\n",
              "311             16      ANDRE  ...    andre@dominiodoemail.com.br          1\n",
              "336             16    RICARDO  ...     ricardo@servicodoemail.com         12\n",
              "152             16  SEBASTIAO  ...   sebastiao@servicodoemail.com          4\n",
              "345             16       IGOR  ...        igor@servicodoemail.com          2\n",
              "290             16     ROBSON  ...   robson@dominiodoemail.com.br          4\n",
              "170             16  REGINALDO  ...   reginaldo@servicodoemail.com          1\n",
              "360             16      ELIAS  ...    elias@dominiodoemail.com.br          3\n",
              "373             16    EMERSON  ...  emerson@dominiodoemail.com.br          3\n",
              "110             16    OSVALDO  ...     osvaldo@servicodoemail.com          5\n",
              "4               16     MOISES  ...      moises@servicodoemail.com          1\n",
              "57              16    EDILSON  ...     edilson@servicodoemail.com          1\n",
              "130             16       RUAN  ...        ruan@servicodoemail.com          1\n",
              "155             16     CLEBER  ...   cleber@dominiodoemail.com.br          3\n",
              "349             16     DAMIAO  ...      damiao@servicodoemail.com          4\n",
              "97              16      ELTON  ...    elton@dominiodoemail.com.br          4\n",
              "215             16     WESLEI  ...      weslei@servicodoemail.com          2\n",
              "\n",
              "[24 rows x 5 columns]"
            ]
          },
          "metadata": {
            "tags": []
          },
          "execution_count": 66
        }
      ]
    },
    {
      "cell_type": "code",
      "metadata": {
        "id": "mGx3ozC-gDw2",
        "colab": {
          "base_uri": "https://localhost:8080/"
        },
        "outputId": "d48ed0c0-464a-4fc7-d33d-35f00529064a"
      },
      "source": [
        "proxima_turma.set_index('ID_aluno').join(nomes.set_index('id_aluno'))['nomes']"
      ],
      "execution_count": null,
      "outputs": [
        {
          "output_type": "execute_result",
          "data": {
            "text/plain": [
              "ID_aluno\n",
              "296      DANIELA\n",
              "27       RAFAELA\n",
              "246        LAURA\n",
              "96      CAROLINA\n",
              "285        VANIA\n",
              "135       MIRIAN\n",
              "353      JENIFER\n",
              "67         PEDRO\n",
              "311        ANDRE\n",
              "336      RICARDO\n",
              "152    SEBASTIAO\n",
              "345         IGOR\n",
              "290       ROBSON\n",
              "170    REGINALDO\n",
              "360        ELIAS\n",
              "373      EMERSON\n",
              "110      OSVALDO\n",
              "4         MOISES\n",
              "57       EDILSON\n",
              "130         RUAN\n",
              "155       CLEBER\n",
              "349       DAMIAO\n",
              "97         ELTON\n",
              "215       WESLEI\n",
              "Name: nomes, dtype: object"
            ]
          },
          "metadata": {
            "tags": []
          },
          "execution_count": 67
        }
      ]
    },
    {
      "cell_type": "code",
      "metadata": {
        "id": "hC6ObKBvhQiw"
      },
      "source": [
        "proxima_turma = proxima_turma.set_index('ID_aluno').join(nomes.set_index('id_aluno'))['nomes'].to_frame()"
      ],
      "execution_count": null,
      "outputs": []
    },
    {
      "cell_type": "code",
      "metadata": {
        "id": "AMS8E9k4hYtU",
        "colab": {
          "base_uri": "https://localhost:8080/"
        },
        "outputId": "b8d272d8-d67a-4768-ca75-f81c9a4fb158"
      },
      "source": [
        "nome_curso = cursos.loc[id_curso]\n",
        "nome_curso"
      ],
      "execution_count": null,
      "outputs": [
        {
          "output_type": "execute_result",
          "data": {
            "text/plain": [
              "Nome_do_curso    Estatística básica\n",
              "Name: 16, dtype: object"
            ]
          },
          "metadata": {
            "tags": []
          },
          "execution_count": 69
        }
      ]
    },
    {
      "cell_type": "code",
      "metadata": {
        "id": "BU02axx1hxFB",
        "colab": {
          "base_uri": "https://localhost:8080/"
        },
        "outputId": "db3abcc5-98d5-4fcb-f333-be48a131d4cf"
      },
      "source": [
        "nome_curso = nome_curso.Nome_do_curso\n",
        "nome_curso"
      ],
      "execution_count": null,
      "outputs": [
        {
          "output_type": "execute_result",
          "data": {
            "application/vnd.google.colaboratory.intrinsic+json": {
              "type": "string"
            },
            "text/plain": [
              "'Estatística básica'"
            ]
          },
          "metadata": {
            "tags": []
          },
          "execution_count": 70
        }
      ]
    },
    {
      "cell_type": "code",
      "metadata": {
        "id": "P4srol5RiL-m"
      },
      "source": [
        "proxima_turma = proxima_turma.rename(columns={'nomes': 'Alunos do curso de Estatística básica'})"
      ],
      "execution_count": null,
      "outputs": []
    },
    {
      "cell_type": "code",
      "metadata": {
        "id": "g490LsuOiaI6",
        "colab": {
          "base_uri": "https://localhost:8080/"
        },
        "outputId": "f78cc3d2-617c-4782-baa1-fc4a200e94f3"
      },
      "source": [
        "proxima_turma"
      ],
      "execution_count": null,
      "outputs": [
        {
          "output_type": "execute_result",
          "data": {
            "text/html": [
              "<div>\n",
              "<style scoped>\n",
              "    .dataframe tbody tr th:only-of-type {\n",
              "        vertical-align: middle;\n",
              "    }\n",
              "\n",
              "    .dataframe tbody tr th {\n",
              "        vertical-align: top;\n",
              "    }\n",
              "\n",
              "    .dataframe thead th {\n",
              "        text-align: right;\n",
              "    }\n",
              "</style>\n",
              "<table border=\"1\" class=\"dataframe\">\n",
              "  <thead>\n",
              "    <tr style=\"text-align: right;\">\n",
              "      <th></th>\n",
              "      <th>Alunos do curso de Estatística básica</th>\n",
              "    </tr>\n",
              "    <tr>\n",
              "      <th>ID_aluno</th>\n",
              "      <th></th>\n",
              "    </tr>\n",
              "  </thead>\n",
              "  <tbody>\n",
              "    <tr>\n",
              "      <th>296</th>\n",
              "      <td>DANIELA</td>\n",
              "    </tr>\n",
              "    <tr>\n",
              "      <th>27</th>\n",
              "      <td>RAFAELA</td>\n",
              "    </tr>\n",
              "    <tr>\n",
              "      <th>246</th>\n",
              "      <td>LAURA</td>\n",
              "    </tr>\n",
              "    <tr>\n",
              "      <th>96</th>\n",
              "      <td>CAROLINA</td>\n",
              "    </tr>\n",
              "    <tr>\n",
              "      <th>285</th>\n",
              "      <td>VANIA</td>\n",
              "    </tr>\n",
              "    <tr>\n",
              "      <th>135</th>\n",
              "      <td>MIRIAN</td>\n",
              "    </tr>\n",
              "    <tr>\n",
              "      <th>353</th>\n",
              "      <td>JENIFER</td>\n",
              "    </tr>\n",
              "    <tr>\n",
              "      <th>67</th>\n",
              "      <td>PEDRO</td>\n",
              "    </tr>\n",
              "    <tr>\n",
              "      <th>311</th>\n",
              "      <td>ANDRE</td>\n",
              "    </tr>\n",
              "    <tr>\n",
              "      <th>336</th>\n",
              "      <td>RICARDO</td>\n",
              "    </tr>\n",
              "    <tr>\n",
              "      <th>152</th>\n",
              "      <td>SEBASTIAO</td>\n",
              "    </tr>\n",
              "    <tr>\n",
              "      <th>345</th>\n",
              "      <td>IGOR</td>\n",
              "    </tr>\n",
              "    <tr>\n",
              "      <th>290</th>\n",
              "      <td>ROBSON</td>\n",
              "    </tr>\n",
              "    <tr>\n",
              "      <th>170</th>\n",
              "      <td>REGINALDO</td>\n",
              "    </tr>\n",
              "    <tr>\n",
              "      <th>360</th>\n",
              "      <td>ELIAS</td>\n",
              "    </tr>\n",
              "    <tr>\n",
              "      <th>373</th>\n",
              "      <td>EMERSON</td>\n",
              "    </tr>\n",
              "    <tr>\n",
              "      <th>110</th>\n",
              "      <td>OSVALDO</td>\n",
              "    </tr>\n",
              "    <tr>\n",
              "      <th>4</th>\n",
              "      <td>MOISES</td>\n",
              "    </tr>\n",
              "    <tr>\n",
              "      <th>57</th>\n",
              "      <td>EDILSON</td>\n",
              "    </tr>\n",
              "    <tr>\n",
              "      <th>130</th>\n",
              "      <td>RUAN</td>\n",
              "    </tr>\n",
              "    <tr>\n",
              "      <th>155</th>\n",
              "      <td>CLEBER</td>\n",
              "    </tr>\n",
              "    <tr>\n",
              "      <th>349</th>\n",
              "      <td>DAMIAO</td>\n",
              "    </tr>\n",
              "    <tr>\n",
              "      <th>97</th>\n",
              "      <td>ELTON</td>\n",
              "    </tr>\n",
              "    <tr>\n",
              "      <th>215</th>\n",
              "      <td>WESLEI</td>\n",
              "    </tr>\n",
              "  </tbody>\n",
              "</table>\n",
              "</div>"
            ],
            "text/plain": [
              "         Alunos do curso de Estatística básica\n",
              "ID_aluno                                      \n",
              "296                                    DANIELA\n",
              "27                                     RAFAELA\n",
              "246                                      LAURA\n",
              "96                                    CAROLINA\n",
              "285                                      VANIA\n",
              "135                                     MIRIAN\n",
              "353                                    JENIFER\n",
              "67                                       PEDRO\n",
              "311                                      ANDRE\n",
              "336                                    RICARDO\n",
              "152                                  SEBASTIAO\n",
              "345                                       IGOR\n",
              "290                                     ROBSON\n",
              "170                                  REGINALDO\n",
              "360                                      ELIAS\n",
              "373                                    EMERSON\n",
              "110                                    OSVALDO\n",
              "4                                       MOISES\n",
              "57                                     EDILSON\n",
              "130                                       RUAN\n",
              "155                                     CLEBER\n",
              "349                                     DAMIAO\n",
              "97                                       ELTON\n",
              "215                                     WESLEI"
            ]
          },
          "metadata": {
            "tags": []
          },
          "execution_count": 72
        }
      ]
    },
    {
      "cell_type": "markdown",
      "metadata": {
        "id": "MTVn2EpOjukR"
      },
      "source": [
        "#**Excel**"
      ]
    },
    {
      "cell_type": "code",
      "metadata": {
        "id": "S1UkjYPli4-0"
      },
      "source": [
        "proxima_turma.to_excel('proxima_turma.xlsx', index=False)"
      ],
      "execution_count": null,
      "outputs": []
    },
    {
      "cell_type": "code",
      "metadata": {
        "id": "RZiSY2r4j488",
        "colab": {
          "base_uri": "https://localhost:8080/"
        },
        "outputId": "5d933352-fd8f-4685-9f34-d2e6fae30e78"
      },
      "source": [
        "pd.read_excel(\"proxima_turma.xlsx\")"
      ],
      "execution_count": null,
      "outputs": [
        {
          "output_type": "execute_result",
          "data": {
            "text/html": [
              "<div>\n",
              "<style scoped>\n",
              "    .dataframe tbody tr th:only-of-type {\n",
              "        vertical-align: middle;\n",
              "    }\n",
              "\n",
              "    .dataframe tbody tr th {\n",
              "        vertical-align: top;\n",
              "    }\n",
              "\n",
              "    .dataframe thead th {\n",
              "        text-align: right;\n",
              "    }\n",
              "</style>\n",
              "<table border=\"1\" class=\"dataframe\">\n",
              "  <thead>\n",
              "    <tr style=\"text-align: right;\">\n",
              "      <th></th>\n",
              "      <th>Alunos do curso de Estatística básica</th>\n",
              "    </tr>\n",
              "  </thead>\n",
              "  <tbody>\n",
              "    <tr>\n",
              "      <th>0</th>\n",
              "      <td>DANIELA</td>\n",
              "    </tr>\n",
              "    <tr>\n",
              "      <th>1</th>\n",
              "      <td>RAFAELA</td>\n",
              "    </tr>\n",
              "    <tr>\n",
              "      <th>2</th>\n",
              "      <td>LAURA</td>\n",
              "    </tr>\n",
              "    <tr>\n",
              "      <th>3</th>\n",
              "      <td>CAROLINA</td>\n",
              "    </tr>\n",
              "    <tr>\n",
              "      <th>4</th>\n",
              "      <td>VANIA</td>\n",
              "    </tr>\n",
              "    <tr>\n",
              "      <th>5</th>\n",
              "      <td>MIRIAN</td>\n",
              "    </tr>\n",
              "    <tr>\n",
              "      <th>6</th>\n",
              "      <td>JENIFER</td>\n",
              "    </tr>\n",
              "    <tr>\n",
              "      <th>7</th>\n",
              "      <td>PEDRO</td>\n",
              "    </tr>\n",
              "    <tr>\n",
              "      <th>8</th>\n",
              "      <td>ANDRE</td>\n",
              "    </tr>\n",
              "    <tr>\n",
              "      <th>9</th>\n",
              "      <td>RICARDO</td>\n",
              "    </tr>\n",
              "    <tr>\n",
              "      <th>10</th>\n",
              "      <td>SEBASTIAO</td>\n",
              "    </tr>\n",
              "    <tr>\n",
              "      <th>11</th>\n",
              "      <td>IGOR</td>\n",
              "    </tr>\n",
              "    <tr>\n",
              "      <th>12</th>\n",
              "      <td>ROBSON</td>\n",
              "    </tr>\n",
              "    <tr>\n",
              "      <th>13</th>\n",
              "      <td>REGINALDO</td>\n",
              "    </tr>\n",
              "    <tr>\n",
              "      <th>14</th>\n",
              "      <td>ELIAS</td>\n",
              "    </tr>\n",
              "    <tr>\n",
              "      <th>15</th>\n",
              "      <td>EMERSON</td>\n",
              "    </tr>\n",
              "    <tr>\n",
              "      <th>16</th>\n",
              "      <td>OSVALDO</td>\n",
              "    </tr>\n",
              "    <tr>\n",
              "      <th>17</th>\n",
              "      <td>MOISES</td>\n",
              "    </tr>\n",
              "    <tr>\n",
              "      <th>18</th>\n",
              "      <td>EDILSON</td>\n",
              "    </tr>\n",
              "    <tr>\n",
              "      <th>19</th>\n",
              "      <td>RUAN</td>\n",
              "    </tr>\n",
              "    <tr>\n",
              "      <th>20</th>\n",
              "      <td>CLEBER</td>\n",
              "    </tr>\n",
              "    <tr>\n",
              "      <th>21</th>\n",
              "      <td>DAMIAO</td>\n",
              "    </tr>\n",
              "    <tr>\n",
              "      <th>22</th>\n",
              "      <td>ELTON</td>\n",
              "    </tr>\n",
              "    <tr>\n",
              "      <th>23</th>\n",
              "      <td>WESLEI</td>\n",
              "    </tr>\n",
              "  </tbody>\n",
              "</table>\n",
              "</div>"
            ],
            "text/plain": [
              "   Alunos do curso de Estatística básica\n",
              "0                                DANIELA\n",
              "1                                RAFAELA\n",
              "2                                  LAURA\n",
              "3                               CAROLINA\n",
              "4                                  VANIA\n",
              "5                                 MIRIAN\n",
              "6                                JENIFER\n",
              "7                                  PEDRO\n",
              "8                                  ANDRE\n",
              "9                                RICARDO\n",
              "10                             SEBASTIAO\n",
              "11                                  IGOR\n",
              "12                                ROBSON\n",
              "13                             REGINALDO\n",
              "14                                 ELIAS\n",
              "15                               EMERSON\n",
              "16                               OSVALDO\n",
              "17                                MOISES\n",
              "18                               EDILSON\n",
              "19                                  RUAN\n",
              "20                                CLEBER\n",
              "21                                DAMIAO\n",
              "22                                 ELTON\n",
              "23                                WESLEI"
            ]
          },
          "metadata": {
            "tags": []
          },
          "execution_count": 74
        }
      ]
    },
    {
      "cell_type": "code",
      "metadata": {
        "id": "k8xkHXkkkUkN"
      },
      "source": [
        ""
      ],
      "execution_count": null,
      "outputs": []
    }
  ]
}